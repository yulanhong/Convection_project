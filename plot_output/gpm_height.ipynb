{
 "cells": [
  {
   "cell_type": "code",
   "execution_count": null,
   "metadata": {},
   "outputs": [],
   "source": [
    "def height_lut(sat='GPM'):\n",
    "\n",
    "    x2=2.*17.0;\n",
    "\n",
    "    re=6378.;\n",
    "\n",
    "    theta=(-1.*x2/2+(x2/48.)*np.arange(50))*np.pi/180.;\n",
    "\n",
    " \n",
    "\n",
    "    prheightref=np.zeros([176,49],'double')\n",
    "\n",
    "   \n",
    "\n",
    "    for i in np.arange(176):\n",
    "\n",
    "        for j in np.arange(49):\n",
    "\n",
    "            a=np.arcsin(((re+407.)/re)*np.sin(theta[j]))-theta[j];\n",
    "\n",
    "            prheightref[i,j]=(176-i)*0.125*np.cos(theta[j]+a);\n",
    "\n",
    "    return prheightref"
   ]
  }
 ],
 "metadata": {
  "kernelspec": {
   "display_name": "Python 3",
   "language": "python",
   "name": "python3"
  },
  "language_info": {
   "codemirror_mode": {
    "name": "ipython",
    "version": 3
   },
   "file_extension": ".py",
   "mimetype": "text/x-python",
   "name": "python",
   "nbconvert_exporter": "python",
   "pygments_lexer": "ipython3",
   "version": "3.8.5"
  }
 },
 "nbformat": 4,
 "nbformat_minor": 4
}
