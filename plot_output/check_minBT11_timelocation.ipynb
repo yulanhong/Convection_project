{
 "cells": [
  {
   "cell_type": "code",
   "execution_count": 7,
   "id": "dfdbd830",
   "metadata": {},
   "outputs": [
    {
     "name": "stdout",
     "output_type": "stream",
     "text": [
      "['2018']\n",
      "/data/keeling/a/yulanh/c/OT_output/Aqua/2018/MODIS_MYDOTinfo_2018365.1415.txt [15]\n"
     ]
    }
   ],
   "source": [
    "def read_text(fname):\n",
    "    fo=open(fname,'r') #create file object\n",
    "    #headstr=fo.readline()\n",
    "    data=fo.readlines()\n",
    "    #print (data)\n",
    "    fo.close()  # close object\n",
    "    return data\n",
    "\n",
    "# main\n",
    "import os \n",
    "import matplotlib as mpl\n",
    "import matplotlib.pyplot as plt\n",
    "#from mpl_toolkits.basemap import Basemap\n",
    "from datetime import datetime, date, timedelta\n",
    "import numpy as np\n",
    "import pandas as pd\n",
    "import glob\n",
    "\n",
    "years=['2018']#,'2019','2020']\n",
    "#geod = Geod('+a=6378137 +f=0.0033528106647475126')\n",
    "print(years)\n",
    "for year in years:\n",
    "    \n",
    "    fnames=glob.glob('/data/keeling/a/yulanh/c/OT_output/Aqua/'+year+'/*.txt')\n",
    "    for fname in fnames:\n",
    "\n",
    "        file_size=os.path.getsize(fname)\n",
    "\n",
    "        if (file_size > 0) :\n",
    "            \n",
    "            data=read_text(fname)\n",
    "            splitcol=data[0].split(' ')\n",
    "            Ncol=len(splitcol)-splitcol.count('')\n",
    "            Nrow=len(data)\n",
    "\n",
    "            dataT=np.zeros((Nrow,Ncol),'f')\n",
    "            for i in range(Nrow):\n",
    "                splitcol=data[i].split(' ')\n",
    "                k=0\n",
    "                for j in range(len(splitcol)):\n",
    "                    if splitcol[j] != '' and splitcol[j] != '\\n' :\n",
    "\n",
    "                        dataT[i,k]=float(splitcol[j])\n",
    "                        k=k+1\n",
    "                        \n",
    "            BT11_minOT=dataT[:,6]\n",
    "            ind=np.where((BT11_minOT > 100) & (BT11_minOT < 166.23))[0]\n",
    "            if (len(ind) > 0):\n",
    "                print(fname,ind)"
   ]
  },
  {
   "cell_type": "code",
   "execution_count": 5,
   "id": "2e1cafa1",
   "metadata": {},
   "outputs": [
    {
     "name": "stdout",
     "output_type": "stream",
     "text": [
      "(8, 32)\n"
     ]
    }
   ],
   "source": [
    "print(dataT.shape)"
   ]
  }
 ],
 "metadata": {
  "kernelspec": {
   "display_name": "Python 3 (ipykernel)",
   "language": "python",
   "name": "python3"
  },
  "language_info": {
   "codemirror_mode": {
    "name": "ipython",
    "version": 3
   },
   "file_extension": ".py",
   "mimetype": "text/x-python",
   "name": "python",
   "nbconvert_exporter": "python",
   "pygments_lexer": "ipython3",
   "version": "3.8.12"
  }
 },
 "nbformat": 4,
 "nbformat_minor": 5
}
