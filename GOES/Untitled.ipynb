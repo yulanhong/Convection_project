{
 "cells": [
  {
   "cell_type": "code",
   "execution_count": 15,
   "metadata": {},
   "outputs": [
    {
     "name": "stdout",
     "output_type": "stream",
     "text": [
      "finish\n"
     ]
    }
   ],
   "source": [
    "from netCDF4 import Dataset\n",
    "from pyhdf.SD import SD, SDC\n",
    "import h5py\n",
    "import numpy as np\n",
    "import os, os.path\n",
    "import matplotlib.pyplot as plt\n",
    "import glob\n",
    "\n",
    "data_dir = '/data/keeling/a/yulanh/c/OT_output/tornado/'\n",
    "file_name = glob.glob(data_dir+'*s20213450514561_*')\n",
    "\n",
    "for OT_fname in file_name:\n",
    "    print(OT_fname)\n",
    "    fid = h5py.File(OT_fname,'r')\n",
    "    OT_prob= fid['OT_probability'][:]\n",
    "    index=np.where(OT_prob > 0)\n",
    "    print(index)\n",
    "\n",
    "print('finish')    "
   ]
  }
 ],
 "metadata": {
  "kernelspec": {
   "display_name": "Python 3",
   "language": "python",
   "name": "python3"
  },
  "language_info": {
   "codemirror_mode": {
    "name": "ipython",
    "version": 3
   },
   "file_extension": ".py",
   "mimetype": "text/x-python",
   "name": "python",
   "nbconvert_exporter": "python",
   "pygments_lexer": "ipython3",
   "version": "3.8.5"
  }
 },
 "nbformat": 4,
 "nbformat_minor": 4
}
