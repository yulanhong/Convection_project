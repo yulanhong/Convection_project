{
 "cells": [
  {
   "cell_type": "code",
   "execution_count": 2,
   "id": "652ae77e",
   "metadata": {},
   "outputs": [
    {
     "name": "stdout",
     "output_type": "stream",
     "text": [
      "start 2022-08-18 10:54:45.007492\n",
      "[  5  15  25  35  45  55  65  75  85  95 105]\n",
      "tropical not ot frac [       nan        nan        nan 1.         1.         0.875\n",
      " 1.         0.81818182 0.75       0.08433735        nan]\n",
      "tropical ot frac [       nan        nan        nan 0.         0.         0.\n",
      " 0.         0.04545455 0.0625     0.56626506        nan]\n",
      "trop NOT num [ 0.  0.  0.  3.  3.  7.  8. 18. 24. 14.  0.]\n",
      "trop OT num [ 0.  0.  0.  0.  0.  0.  0.  1.  2. 94.  0.]\n",
      "trop LOT num [ 0  0  0  0  0  1  0  3  6 58  0]\n",
      "trop all num [  0.   0.   0.   3.   3.   8.   8.  22.  32. 166.   0.] 242.0\n",
      "422 69 177\n",
      "midlatitude NOT frac [1.         1.         1.         0.94339623 0.91666667 0.9122807\n",
      " 0.81034483 0.78125    0.63       0.18181818        nan]\n",
      "midlatitude OT frac [0.         0.         0.         0.         0.         0.01754386\n",
      " 0.         0.03125    0.04       0.29665072        nan]\n",
      "mid non OT [ 1 25 41 50 55 52 47 50 63 38  0]\n",
      "mid  OT [ 0  0  0  0  0  1  0  2  4 62  0]\n",
      "mid LOT [  0   0   0   3   5   4  11  12  33 109   0]\n",
      "mid all num [  1  25  41  53  60  57  58  64 100 209   0] 668\n"
     ]
    },
    {
     "name": "stderr",
     "output_type": "stream",
     "text": [
      "/tmp/ipykernel_185222/1992494396.py:24: ParserWarning: Falling back to the 'python' engine because the 'c' engine does not support regex separators (separators > 1 char and different from '\\s+' are interpreted as regex); you can avoid this warning by specifying engine='python'.\n",
      "  df=pd.read_csv(fname,sep=', ',index_col=False)\n",
      "/tmp/ipykernel_185222/1992494396.py:70: RuntimeWarning: invalid value encountered in true_divide\n",
      "  Trop_NOT_frac=trop_NOT_num/trop_Allnum\n",
      "/tmp/ipykernel_185222/1992494396.py:75: RuntimeWarning: invalid value encountered in true_divide\n",
      "  p01=ax[0].plot(x,trop_OT_num/trop_Allnum,'gray',linewidth=2,marker='o',markersize=9)#,mfc='none')\n",
      "/tmp/ipykernel_185222/1992494396.py:76: RuntimeWarning: invalid value encountered in true_divide\n",
      "  p02=ax[0].plot(x,trop_LOT_num/trop_Allnum,'lightgray',linewidth=2,marker='o',markersize=9)#,mfc='none')\n",
      "/tmp/ipykernel_185222/1992494396.py:82: MatplotlibDeprecationWarning: The 'b' parameter of grid() has been renamed 'visible' since Matplotlib 3.5; support for the old name will be dropped two minor releases later.\n",
      "  ax[0].grid(b=True,which='both',linestyle='--',color='gainsboro')\n",
      "/tmp/ipykernel_185222/1992494396.py:90: RuntimeWarning: invalid value encountered in true_divide\n",
      "  print('tropical ot frac',trop_OT_num/trop_Allnum)\n",
      "/tmp/ipykernel_185222/1992494396.py:98: RuntimeWarning: invalid value encountered in true_divide\n",
      "  print('midlatitude NOT frac',mid_NOT_num/mid_Allnum)\n",
      "/tmp/ipykernel_185222/1992494396.py:99: RuntimeWarning: invalid value encountered in true_divide\n",
      "  print('midlatitude OT frac',mid_OT_num/mid_Allnum)\n",
      "/tmp/ipykernel_185222/1992494396.py:100: RuntimeWarning: invalid value encountered in true_divide\n",
      "  p10=ax[1].plot(x,mid_NOT_num/mid_Allnum,'black',linewidth=2,marker='o',markersize=9, label='NOT')\n",
      "/tmp/ipykernel_185222/1992494396.py:101: RuntimeWarning: invalid value encountered in true_divide\n",
      "  p11=ax[1].plot(x,mid_OT_num/mid_Allnum,'gray',linewidth=2,marker='o',markersize=9, label='OT')\n",
      "/tmp/ipykernel_185222/1992494396.py:102: RuntimeWarning: invalid value encountered in true_divide\n",
      "  p12=ax[1].plot(x,mid_LOT_num/mid_Allnum,'lightgray',linewidth=2,marker='o',markersize=9, label='LOT')\n",
      "/tmp/ipykernel_185222/1992494396.py:111: MatplotlibDeprecationWarning: The 'b' parameter of grid() has been renamed 'visible' since Matplotlib 3.5; support for the old name will be dropped two minor releases later.\n",
      "  ax[1].grid(b=True,which='both',linestyle='--',color='gainsboro')\n"
     ]
    },
    {
     "data": {
      "image/png": "[encoded data removed]",
      "text/plain": [
       "<Figure size 540x216 with 2 Axes>"
      ]
     },
     "metadata": {
      "needs_background": "light"
     },
     "output_type": "display_data"
    }
   ],
   "source": [
    "# this script is to extract the OT information, recording lat, min BT11, avg. BT11, \\\n",
    "\n",
    "\n",
    "import os \n",
    "import matplotlib as mpl\n",
    "import matplotlib.pyplot as plt\n",
    "from datetime import datetime, date, timedelta\n",
    "import numpy as np\n",
    "import pandas as pd\n",
    "import glob\n",
    "from pyhdf.SD import SD, SDC\n",
    "import h5py\n",
    "import statsmodels.api as sm\n",
    "from scipy import stats\n",
    "from math import floor\n",
    "from matplotlib.ticker import (MultipleLocator, AutoMinorLocator)\n",
    "\n",
    "print('start',datetime.now())\n",
    "planck_c1=1.191042e8\n",
    "planck_c2=1.4387752e4\n",
    "\n",
    "fname='Aqua_OT_candidate_July_2018_hc.txt'\n",
    "\n",
    "df=pd.read_csv(fname,sep=', ',index_col=False)\n",
    "OTlat=df['lat']\n",
    "OTflag=df['OTflag'] # 0 non OT, 1 LOT, 2 OT\n",
    "OTprob=df['P']\n",
    "\n",
    "#== to plot ===\n",
    "Nx=11\n",
    "trop_NOT_num=np.zeros((Nx),'f')\n",
    "trop_OT_num =np.zeros((Nx),'f')\n",
    "trop_LOT_num=np.zeros((Nx),'i')\n",
    "mid_NOT_num=np.zeros((Nx),'i')\n",
    "mid_OT_num =np.zeros((Nx),'i')\n",
    "mid_LOT_num=np.zeros((Nx),'i')\n",
    "\n",
    "Nrow=OTprob.shape[0]\n",
    "for i in np.arange(Nrow):\n",
    "    tpOTflag=OTflag[i]\n",
    "    tpOTlat =OTlat[i]\n",
    "    tpOTprob=OTprob[i]\n",
    "    proba_scp=floor(tpOTprob/0.1)\n",
    "    \n",
    "    if abs(tpOTlat) < 25 :    \n",
    "        if tpOTflag == 0:\n",
    "            trop_NOT_num[proba_scp]=trop_NOT_num[proba_scp]+1\n",
    "           \n",
    "        if tpOTflag == 2:\n",
    "            trop_OT_num[proba_scp] = trop_OT_num[proba_scp]+1            \n",
    "                \n",
    "        if tpOTflag == 1:\n",
    "            trop_LOT_num[proba_scp]= trop_LOT_num[proba_scp]+1\n",
    "   \n",
    "    if abs(tpOTlat) >= 25 :    \n",
    "        if tpOTflag == 0:\n",
    "            mid_NOT_num[proba_scp]=mid_NOT_num[proba_scp]+1\n",
    "             \n",
    "        if tpOTflag == 2:\n",
    "            mid_OT_num[proba_scp] = mid_OT_num[proba_scp]+1\n",
    "                      \n",
    "        if tpOTflag == 1:\n",
    "            mid_LOT_num[proba_scp]= mid_LOT_num[proba_scp]+1\n",
    "\n",
    "x=np.arange(Nx)\n",
    "x=x*10+5\n",
    "\n",
    "trop_OT_frac=np.zeros((Nx),'f')\n",
    "trop_Allnum=trop_NOT_num+trop_OT_num+trop_LOT_num\n",
    "Trop_NOT_frac=trop_NOT_num/trop_Allnum\n",
    "\n",
    "fig, ax =plt.subplots(1,2,figsize=[7.5,3])\n",
    "\n",
    "p00=ax[0].plot(x,Trop_NOT_frac,'black',linewidth=2,marker='o',markersize=9)#,mfc='none')\n",
    "p01=ax[0].plot(x,trop_OT_num/trop_Allnum,'gray',linewidth=2,marker='o',markersize=9)#,mfc='none')\n",
    "p02=ax[0].plot(x,trop_LOT_num/trop_Allnum,'lightgray',linewidth=2,marker='o',markersize=9)#,mfc='none')\n",
    "ax[0].set_title('Tropics')\n",
    "ax[0].set_xlabel('P (%)')\n",
    "ax[0].set_ylabel('Fraction')\n",
    "ax[0].yaxis.set_minor_locator(AutoMinorLocator(2))\n",
    "ax[0].xaxis.set_minor_locator(AutoMinorLocator(2))\n",
    "ax[0].grid(b=True,which='both',linestyle='--',color='gainsboro')\n",
    "ax[0].tick_params(labelsize=12)\n",
    "ax[0].set_xticks([5,25,45,65,85,105])\n",
    "ax[0].set_xlim([0,100])\n",
    "ax[0].text(0.075,1.06,'(a)',fontsize=10)\n",
    "#plt.show()\n",
    "print(x)\n",
    "print('tropical not ot frac',Trop_NOT_frac)\n",
    "print('tropical ot frac',trop_OT_num/trop_Allnum)\n",
    "print('trop NOT num',trop_NOT_num)\n",
    "print('trop OT num',trop_OT_num)\n",
    "print('trop LOT num',trop_LOT_num)\n",
    "print('trop all num',trop_Allnum,np.sum(trop_Allnum))\n",
    "\n",
    "print(sum(mid_NOT_num),sum(mid_OT_num),sum(mid_LOT_num))\n",
    "mid_Allnum=mid_NOT_num+mid_OT_num+mid_LOT_num\n",
    "print('midlatitude NOT frac',mid_NOT_num/mid_Allnum)\n",
    "print('midlatitude OT frac',mid_OT_num/mid_Allnum)\n",
    "p10=ax[1].plot(x,mid_NOT_num/mid_Allnum,'black',linewidth=2,marker='o',markersize=9, label='NOT')\n",
    "p11=ax[1].plot(x,mid_OT_num/mid_Allnum,'gray',linewidth=2,marker='o',markersize=9, label='OT')\n",
    "p12=ax[1].plot(x,mid_LOT_num/mid_Allnum,'lightgray',linewidth=2,marker='o',markersize=9, label='LOT')\n",
    "plt.title('Midlatitudes')\n",
    "print('mid non OT',mid_NOT_num)\n",
    "print('mid  OT',mid_OT_num)\n",
    "print('mid LOT',mid_LOT_num)\n",
    "print('mid all num',mid_Allnum,np.sum(mid_Allnum))\n",
    "ax[1].set_xlabel('P (%)')\n",
    "ax[1].yaxis.set_minor_locator(AutoMinorLocator(2))\n",
    "ax[1].xaxis.set_minor_locator(AutoMinorLocator(2))\n",
    "ax[1].grid(b=True,which='both',linestyle='--',color='gainsboro')\n",
    "ax[1].tick_params(labelsize=12)\n",
    "ax[1].set_xticks([5,25,45,65,85,105])\n",
    "ax[1].set_xlim([0,100])\n",
    "ax[1].text(0.075,1.06,'(b)',fontsize=10)\n",
    "ax[1].legend()\n",
    "plt.show()"
   ]
  },
  {
   "cell_type": "code",
   "execution_count": 5,
   "id": "ea1d023f",
   "metadata": {
    "collapsed": true
   },
   "outputs": [
    {
     "name": "stdout",
     "output_type": "stream",
     "text": [
      "[0 1]\n"
     ]
    }
   ],
   "source": [
    "print(np.arange(2))"
   ]
  }
 ],
 "metadata": {
  "kernelspec": {
   "display_name": "Python 3 (ipykernel)",
   "language": "python",
   "name": "python3"
  },
  "language_info": {
   "codemirror_mode": {
    "name": "ipython",
    "version": 3
   },
   "file_extension": ".py",
   "mimetype": "text/x-python",
   "name": "python",
   "nbconvert_exporter": "python",
   "pygments_lexer": "ipython3",
   "version": "3.8.12"
  }
 },
 "nbformat": 4,
 "nbformat_minor": 5
}
