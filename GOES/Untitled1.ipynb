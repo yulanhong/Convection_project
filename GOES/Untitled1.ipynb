{
 "cells": [
  {
   "cell_type": "code",
   "execution_count": 2,
   "metadata": {},
   "outputs": [
    {
     "ename": "IndexError",
     "evalue": "list index out of range",
     "output_type": "error",
     "traceback": [
      "\u001b[0;31m---------------------------------------------------------------------------\u001b[0m",
      "\u001b[0;31mIndexError\u001b[0m                                Traceback (most recent call last)",
      "\u001b[0;32m<ipython-input-2-8e09dc363bf4>\u001b[0m in \u001b[0;36m<module>\u001b[0;34m\u001b[0m\n\u001b[1;32m     13\u001b[0m \u001b[0mrun\u001b[0m\u001b[0;34m=\u001b[0m\u001b[0msys\u001b[0m\u001b[0;34m.\u001b[0m\u001b[0margv\u001b[0m\u001b[0;34m[\u001b[0m\u001b[0;36m2\u001b[0m\u001b[0;34m]\u001b[0m\u001b[0;34m\u001b[0m\u001b[0;34m\u001b[0m\u001b[0m\n\u001b[1;32m     14\u001b[0m \u001b[0;34m\u001b[0m\u001b[0m\n\u001b[0;32m---> 15\u001b[0;31m \u001b[0mfhr\u001b[0m\u001b[0;34m=\u001b[0m\u001b[0msys\u001b[0m\u001b[0;34m.\u001b[0m\u001b[0margv\u001b[0m\u001b[0;34m[\u001b[0m\u001b[0;36m3\u001b[0m\u001b[0;34m]\u001b[0m\u001b[0;34m\u001b[0m\u001b[0;34m\u001b[0m\u001b[0m\n\u001b[0m\u001b[1;32m     16\u001b[0m \u001b[0;34m\u001b[0m\u001b[0m\n\u001b[1;32m     17\u001b[0m \u001b[0;34m\u001b[0m\u001b[0m\n",
      "\u001b[0;31mIndexError\u001b[0m: list index out of range"
     ]
    }
   ],
   "source": [
    "# shell call for i in {00..07}; do python geos_rt_tt.py 20211211 12 $i; done\n",
    "\n",
    "import numpy as np\n",
    "\n",
    "import xarray as xr\n",
    "\n",
    "import sys\n",
    "\n",
    "#data_dir='/data/accp/a/snesbitt/geos_tt/'\n",
    "\n",
    "data_dir=''\n",
    "\n",
    "datestr=sys.argv[1]\n",
    "\n",
    "run=sys.argv[2]\n",
    "\n",
    "fhr=sys.argv[3]\n",
    "\n",
    " \n",
    "\n",
    "print('Calculating GEOS tropopause temperature: '+datestr+' Run: '+run+' Forecast hour: '+fhr)\n",
    "\n",
    " \n",
    "\n",
    "m3d = xr.open_dataset('https://opendap.nccs.nasa.gov/dods/gmao/geos-cf/fcast/met_inst_1hr_g1440x721_p23/met_inst_1hr_g1440x721_p23.'+datestr+'_'+run+'z')\n",
    "\n",
    "mds = xr.open_dataset('https://opendap.nccs.nasa.gov/dods/gmao/geos-cf/fcast/met_tavg_1hr_g1440x721_x1/met_tavg_1hr_g1440x721_x1.'+datestr+'_'+run+'z')\n",
    "\n",
    " \n",
    "\n",
    "troppb = mds.isel(lev=0,time=int(fhr))['troppb']\n",
    "\n",
    " \n",
    "\n",
    "t = m3d['t'].isel(time=int(fhr))\n",
    "\n",
    " \n",
    "\n",
    " \n",
    "\n",
    " \n",
    "\n",
    "def interp1d_np(data, x, xi):\n",
    "\n",
    "    return np.interp(xi, np.flip(x), np.flip(data))\n",
    "\n",
    " \n",
    "\n",
    " \n",
    "\n",
    "#interped = interp1d_np(t.isel(lat=0,lon=0), m3d.lev,troppb.isel(lat=0,lon=0))\n",
    "\n",
    "out = xr.apply_ufunc(\n",
    "\n",
    "    interp1d_np,  # first the function\n",
    "\n",
    "    t,\n",
    "\n",
    "    m3d.lev,\n",
    "\n",
    "    troppb/100.,  #convert from Pa to hPa to match lev units\n",
    "\n",
    "    input_core_dims=[[\"lev\"], [\"lev\"], []],\n",
    "\n",
    "    exclude_dims=set((\"lev\",)),\n",
    "\n",
    "#    output_core_dims=[[\"lev\"]],\n",
    "\n",
    "    vectorize=True\n",
    "\n",
    ")\n",
    "\n",
    " \n",
    "\n",
    "out.to_netcdf(data_dir+datestr+'_'+run+'_f'+fhr+'.nc')"
   ]
  },
  {
   "cell_type": "code",
   "execution_count": 3,
   "metadata": {},
   "outputs": [
    {
     "name": "stdout",
     "output_type": "stream",
     "text": [
      "['/data/keeling/a/yulanh/anaconda3/lib/python3.8/site-packages/ipykernel_launcher.py', '-f', '/data/keeling/a/yulanh/.local/share/jupyter/runtime/kernel-3789bf00-b766-48ef-97f2-73b78930dfd8.json']\n"
     ]
    }
   ],
   "source": [
    "print(sys.argv)"
   ]
  }
 ],
 "metadata": {
  "kernelspec": {
   "display_name": "Python 3",
   "language": "python",
   "name": "python3"
  },
  "language_info": {
   "codemirror_mode": {
    "name": "ipython",
    "version": 3
   },
   "file_extension": ".py",
   "mimetype": "text/x-python",
   "name": "python",
   "nbconvert_exporter": "python",
   "pygments_lexer": "ipython3",
   "version": "3.8.5"
  }
 },
 "nbformat": 4,
 "nbformat_minor": 4
}
