{
 "cells": [
  {
   "cell_type": "code",
   "execution_count": null,
   "metadata": {},
   "outputs": [],
   "source": []
  },
  {
   "cell_type": "code",
   "execution_count": null,
   "metadata": {},
   "outputs": [],
   "source": []
  },
  {
   "cell_type": "code",
   "execution_count": 14,
   "metadata": {
    "scrolled": false
   },
   "outputs": [
    {
     "name": "stdout",
     "output_type": "stream",
     "text": [
      "start 2022-06-22 16:25:17.394868\n",
      "['2021']\n",
      "['/data/keeling/a/yulanh/satellite/TerraDataArchive/MODIS/MOD03/2021/093/MOD03.A2021093.1125.061.2021093164247.hdf']\n",
      "['/data/keeling/a/yulanh/satellite/TerraDataArchive/MODIS/MOD03/2021/288/MOD03.A2021288.0325.061.2021288085314.hdf']\n",
      "['/data/keeling/a/yulanh/satellite/TerraDataArchive/MODIS/MOD03/2021/132/MOD03.A2021132.2110.061.2021133024537.hdf']\n",
      "['/data/keeling/a/yulanh/satellite/TerraDataArchive/MODIS/MOD03/2021/256/MOD03.A2021256.1735.061.2021256224816.hdf']\n",
      "['/data/keeling/a/yulanh/satellite/TerraDataArchive/MODIS/MOD03/2021/317/MOD03.A2021317.0940.061.2021317151050.hdf']\n",
      "['/data/keeling/a/yulanh/satellite/TerraDataArchive/MODIS/MOD03/2021/182/MOD03.A2021182.2040.061.2021183033709.hdf']\n",
      "['/data/keeling/a/yulanh/satellite/TerraDataArchive/MODIS/MOD03/2021/173/MOD03.A2021173.2140.061.2021174023743.hdf']\n",
      "['/data/keeling/a/yulanh/satellite/TerraDataArchive/MODIS/MOD03/2021/215/MOD03.A2021215.2015.061.2021216022703.hdf']\n",
      "['/data/keeling/a/yulanh/satellite/TerraDataArchive/MODIS/MOD03/2021/193/MOD03.A2021193.1940.061.2021194003705.hdf']\n",
      "['/data/keeling/a/yulanh/satellite/TerraDataArchive/MODIS/MOD03/2021/080/MOD03.A2021080.0915.061.2021080152059.hdf']\n",
      "['/data/keeling/a/yulanh/satellite/TerraDataArchive/MODIS/MOD03/2021/258/MOD03.A2021258.1030.061.2021258165628.hdf']\n",
      "['/data/keeling/a/yulanh/satellite/TerraDataArchive/MODIS/MOD03/2021/041/MOD03.A2021041.2300.061.2021042061012.hdf']\n",
      "['/data/keeling/a/yulanh/satellite/TerraDataArchive/MODIS/MOD03/2021/238/MOD03.A2021238.1435.061.2021238211927.hdf']\n",
      "['/data/keeling/a/yulanh/satellite/TerraDataArchive/MODIS/MOD03/2021/277/MOD03.A2021277.0520.061.2021277105611.hdf']\n",
      "['/data/keeling/a/yulanh/satellite/TerraDataArchive/MODIS/MOD03/2021/215/MOD03.A2021215.1100.061.2021215172347.hdf']\n",
      "['/data/keeling/a/yulanh/satellite/TerraDataArchive/MODIS/MOD03/2021/327/MOD03.A2021327.0500.061.2021327110645.hdf']\n",
      "['/data/keeling/a/yulanh/satellite/TerraDataArchive/MODIS/MOD03/2021/041/MOD03.A2021041.1215.061.2021041190137.hdf']\n",
      "['/data/keeling/a/yulanh/satellite/TerraDataArchive/MODIS/MOD03/2021/152/MOD03.A2021152.0240.061.2021152085858.hdf']\n",
      "['/data/keeling/a/yulanh/satellite/TerraDataArchive/MODIS/MOD03/2021/182/MOD03.A2021182.0715.061.2021182132730.hdf']\n",
      "['/data/keeling/a/yulanh/satellite/TerraDataArchive/MODIS/MOD03/2021/345/MOD03.A2021345.2035.061.2021346044043.hdf']\n",
      "['/data/keeling/a/yulanh/satellite/TerraDataArchive/MODIS/MOD03/2021/073/MOD03.A2021073.1830.061.2021074010654.hdf']\n",
      "['/data/keeling/a/yulanh/satellite/TerraDataArchive/MODIS/MOD03/2021/021/MOD03.A2021021.1610.061.2021021223217.hdf']\n",
      "['/data/keeling/a/yulanh/satellite/TerraDataArchive/MODIS/MOD03/2021/347/MOD03.A2021347.1745.061.2021347233640.hdf']\n",
      "['/data/keeling/a/yulanh/satellite/TerraDataArchive/MODIS/MOD03/2021/275/MOD03.A2021275.0345.061.2021276015053.hdf']\n",
      "['/data/keeling/a/yulanh/satellite/TerraDataArchive/MODIS/MOD03/2021/093/MOD03.A2021093.2030.061.2021094133937.hdf']\n",
      "['/data/keeling/a/yulanh/satellite/TerraDataArchive/MODIS/MOD03/2021/234/MOD03.A2021234.0315.061.2021234085139.hdf']\n",
      "['/data/keeling/a/yulanh/satellite/TerraDataArchive/MODIS/MOD03/2021/327/MOD03.A2021327.1340.061.2021327190344.hdf']\n",
      "['/data/keeling/a/yulanh/satellite/TerraDataArchive/MODIS/MOD03/2021/354/MOD03.A2021354.1935.061.2021355014206.hdf']\n",
      "['/data/keeling/a/yulanh/satellite/TerraDataArchive/MODIS/MOD03/2021/306/MOD03.A2021306.1715.061.2021306234313.hdf']\n",
      "['/data/keeling/a/yulanh/satellite/TerraDataArchive/MODIS/MOD03/2021/349/MOD03.A2021349.0600.061.2021349174012.hdf']\n",
      "['/data/keeling/a/yulanh/satellite/TerraDataArchive/MODIS/MOD03/2021/182/MOD03.A2021182.1155.061.2021182210206.hdf']\n",
      "['/data/keeling/a/yulanh/satellite/TerraDataArchive/MODIS/MOD03/2021/041/MOD03.A2021041.0455.061.2021041104756.hdf']\n",
      "['/data/keeling/a/yulanh/satellite/TerraDataArchive/MODIS/MOD03/2021/060/MOD03.A2021060.0000.061.2021060070418.hdf']\n",
      "['/data/keeling/a/yulanh/satellite/TerraDataArchive/MODIS/MOD03/2021/173/MOD03.A2021173.1055.061.2021173164148.hdf']\n",
      "['/data/keeling/a/yulanh/satellite/TerraDataArchive/MODIS/MOD03/2021/251/MOD03.A2021251.0545.061.2021251114753.hdf']\n",
      "['/data/keeling/a/yulanh/satellite/TerraDataArchive/MODIS/MOD03/2021/342/MOD03.A2021342.1510.061.2021342213505.hdf']\n",
      "['/data/keeling/a/yulanh/satellite/TerraDataArchive/MODIS/MOD03/2021/270/MOD03.A2021270.0110.061.2021271194448.hdf']\n",
      "['/data/keeling/a/yulanh/satellite/TerraDataArchive/MODIS/MOD03/2021/231/MOD03.A2021231.0140.061.2021231070452.hdf']\n",
      "['/data/keeling/a/yulanh/satellite/TerraDataArchive/MODIS/MOD03/2021/024/MOD03.A2021024.0205.061.2021024085516.hdf']\n",
      "['/data/keeling/a/yulanh/satellite/TerraDataArchive/MODIS/MOD03/2021/159/MOD03.A2021159.0710.061.2021159135445.hdf']\n",
      "['/data/keeling/a/yulanh/satellite/TerraDataArchive/MODIS/MOD03/2021/187/MOD03.A2021187.1300.061.2021187184136.hdf']\n",
      "['/data/keeling/a/yulanh/satellite/TerraDataArchive/MODIS/MOD03/2021/016/MOD03.A2021016.0820.061.2021016145651.hdf']\n",
      "['/data/keeling/a/yulanh/satellite/TerraDataArchive/MODIS/MOD03/2021/189/MOD03.A2021189.0245.061.2021189090730.hdf']\n",
      "['/data/keeling/a/yulanh/satellite/TerraDataArchive/MODIS/MOD03/2021/118/MOD03.A2021118.0740.061.2021118155912.hdf']\n",
      "['/data/keeling/a/yulanh/satellite/TerraDataArchive/MODIS/MOD03/2021/283/MOD03.A2021283.2120.061.2021284025603.hdf']\n",
      "['/data/keeling/a/yulanh/satellite/TerraDataArchive/MODIS/MOD03/2021/155/MOD03.A2021155.2125.061.2021156035452.hdf']\n",
      "['/data/keeling/a/yulanh/satellite/TerraDataArchive/MODIS/MOD03/2021/363/MOD03.A2021363.0705.061.2021364021652.hdf']\n",
      "['/data/keeling/a/yulanh/satellite/TerraDataArchive/MODIS/MOD03/2021/301/MOD03.A2021301.2230.061.2021302051448.hdf']\n",
      "['/data/keeling/a/yulanh/satellite/TerraDataArchive/MODIS/MOD03/2021/094/MOD03.A2021094.1515.061.2021094204537.hdf']\n",
      "['/data/keeling/a/yulanh/satellite/TerraDataArchive/MODIS/MOD03/2021/178/MOD03.A2021178.1505.061.2021178210102.hdf']\n",
      "['/data/keeling/a/yulanh/satellite/TerraDataArchive/MODIS/MOD03/2021/028/MOD03.A2021028.1525.061.2021028210050.hdf']\n",
      "['/data/keeling/a/yulanh/satellite/TerraDataArchive/MODIS/MOD03/2021/155/MOD03.A2021155.1030.061.2021155170635.hdf']\n",
      "['/data/keeling/a/yulanh/satellite/TerraDataArchive/MODIS/MOD03/2021/251/MOD03.A2021251.2210.061.2021252061253.hdf']\n",
      "['/data/keeling/a/yulanh/satellite/TerraDataArchive/MODIS/MOD03/2021/301/MOD03.A2021301.1325.061.2021301185432.hdf']\n",
      "['/data/keeling/a/yulanh/satellite/TerraDataArchive/MODIS/MOD03/2021/118/MOD03.A2021118.2015.061.2021119081026.hdf']\n",
      "['/data/keeling/a/yulanh/satellite/TerraDataArchive/MODIS/MOD03/2021/044/MOD03.A2021044.2155.061.2021045044839.hdf']\n",
      "['/data/keeling/a/yulanh/satellite/TerraDataArchive/MODIS/MOD03/2021/005/MOD03.A2021005.2105.061.2021008155244.hdf']\n",
      "['/data/keeling/a/yulanh/satellite/TerraDataArchive/MODIS/MOD03/2021/361/MOD03.A2021361.1720.061.2021361222949.hdf']\n",
      "['/data/keeling/a/yulanh/satellite/TerraDataArchive/MODIS/MOD03/2021/220/MOD03.A2021220.0955.061.2021220164642.hdf']\n",
      "['/data/keeling/a/yulanh/satellite/TerraDataArchive/MODIS/MOD03/2021/185/MOD03.A2021185.0325.061.2021185091813.hdf']\n",
      "['/data/keeling/a/yulanh/satellite/TerraDataArchive/MODIS/MOD03/2021/146/MOD03.A2021146.0800.061.2021146144635.hdf']\n",
      "['/data/keeling/a/yulanh/satellite/TerraDataArchive/MODIS/MOD03/2021/322/MOD03.A2021322.2000.061.2021323045257.hdf']\n",
      "['/data/keeling/a/yulanh/satellite/TerraDataArchive/MODIS/MOD03/2021/148/MOD03.A2021148.1945.061.2021149004519.hdf']\n",
      "['/data/keeling/a/yulanh/satellite/TerraDataArchive/MODIS/MOD03/2021/009/MOD03.A2021009.0730.061.2021009132224.hdf']\n",
      "['/data/keeling/a/yulanh/satellite/TerraDataArchive/MODIS/MOD03/2021/340/MOD03.A2021340.0535.061.2021340105732.hdf']\n",
      "['/data/keeling/a/yulanh/satellite/TerraDataArchive/MODIS/MOD03/2021/212/MOD03.A2021212.1530.061.2021212205853.hdf']\n",
      "['/data/keeling/a/yulanh/satellite/TerraDataArchive/MODIS/MOD03/2021/176/MOD03.A2021176.2315.061.2021177070423.hdf']\n",
      "['/data/keeling/a/yulanh/satellite/TerraDataArchive/MODIS/MOD03/2021/141/MOD03.A2021141.0355.061.2021141110756.hdf']\n",
      "['/data/keeling/a/yulanh/satellite/TerraDataArchive/MODIS/MOD03/2021/052/MOD03.A2021052.1300.061.2021052192652.hdf']\n",
      "['/data/keeling/a/yulanh/satellite/TerraDataArchive/MODIS/MOD03/2021/100/MOD03.A2021100.0305.061.2021100092309.hdf']\n"
     ]
    },
    {
     "name": "stdout",
     "output_type": "stream",
     "text": [
      "['/data/keeling/a/yulanh/satellite/TerraDataArchive/MODIS/MOD03/2021/191/MOD03.A2021191.0600.061.2021191130717.hdf']\n",
      "['/data/keeling/a/yulanh/satellite/TerraDataArchive/MODIS/MOD03/2021/356/MOD03.A2021356.2120.061.2021357041146.hdf']\n",
      "['/data/keeling/a/yulanh/satellite/TerraDataArchive/MODIS/MOD03/2021/334/MOD03.A2021334.0415.061.2021334105543.hdf']\n",
      "['/data/keeling/a/yulanh/satellite/TerraDataArchive/MODIS/MOD03/2021/227/MOD03.A2021227.1440.061.2021227205631.hdf']\n",
      "['/data/keeling/a/yulanh/satellite/TerraDataArchive/MODIS/MOD03/2021/266/MOD03.A2021266.1410.061.2021266211640.hdf']\n",
      "['/data/keeling/a/yulanh/satellite/TerraDataArchive/MODIS/MOD03/2021/247/MOD03.A2021247.1045.061.2021247172126.hdf']\n",
      "['/data/keeling/a/yulanh/satellite/TerraDataArchive/MODIS/MOD03/2021/354/MOD03.A2021354.0010.061.2021354064935.hdf']\n",
      "['/data/keeling/a/yulanh/satellite/TerraDataArchive/MODIS/MOD03/2021/160/MOD03.A2021160.1140.061.2021160172218.hdf']\n",
      "['/data/keeling/a/yulanh/satellite/TerraDataArchive/MODIS/MOD03/2021/299/MOD03.A2021299.1215.061.2021299184543.hdf']\n",
      "['/data/keeling/a/yulanh/satellite/TerraDataArchive/MODIS/MOD03/2021/247/MOD03.A2021247.0605.061.2021247131521.hdf']\n",
      "['/data/keeling/a/yulanh/satellite/TerraDataArchive/MODIS/MOD03/2021/334/MOD03.A2021334.1255.061.2021334190804.hdf']\n",
      "['/data/keeling/a/yulanh/satellite/TerraDataArchive/MODIS/MOD03/2021/249/MOD03.A2021249.1740.061.2021249224445.hdf']\n",
      "['/data/keeling/a/yulanh/satellite/TerraDataArchive/MODIS/MOD03/2021/258/MOD03.A2021258.0915.061.2021258145730.hdf']\n",
      "['/data/keeling/a/yulanh/satellite/TerraDataArchive/MODIS/MOD03/2021/121/MOD03.A2021121.2005.061.2021122031535.hdf']\n",
      "['/data/keeling/a/yulanh/satellite/TerraDataArchive/MODIS/MOD03/2021/245/MOD03.A2021245.1620.061.2021250221743.hdf']\n",
      "['/data/keeling/a/yulanh/satellite/TerraDataArchive/MODIS/MOD03/2021/217/MOD03.A2021217.1800.061.2021218005335.hdf']\n",
      "['/data/keeling/a/yulanh/satellite/TerraDataArchive/MODIS/MOD03/2021/191/MOD03.A2021191.2155.061.2021192060519.hdf']\n",
      "['/data/keeling/a/yulanh/satellite/TerraDataArchive/MODIS/MOD03/2021/345/MOD03.A2021345.0805.061.2021345144314.hdf']\n",
      "['/data/keeling/a/yulanh/satellite/TerraDataArchive/MODIS/MOD03/2021/358/MOD03.A2021358.1730.061.2021358231912.hdf']\n",
      "['/data/keeling/a/yulanh/satellite/TerraDataArchive/MODIS/MOD03/2021/123/MOD03.A2021123.0135.061.2021123150957.hdf']\n",
      "['/data/keeling/a/yulanh/satellite/TerraDataArchive/MODIS/MOD03/2021/011/MOD03.A2021011.1535.061.2021011205354.hdf']\n",
      "['/data/keeling/a/yulanh/satellite/TerraDataArchive/MODIS/MOD03/2021/229/MOD03.A2021229.2250.061.2021230063932.hdf']\n",
      "['/data/keeling/a/yulanh/satellite/TerraDataArchive/MODIS/MOD03/2021/143/MOD03.A2021143.0530.061.2021143110805.hdf']\n",
      "['/data/keeling/a/yulanh/satellite/TerraDataArchive/MODIS/MOD03/2021/268/MOD03.A2021268.2200.061.2021271171409.hdf']\n",
      "['/data/keeling/a/yulanh/satellite/TerraDataArchive/MODIS/MOD03/2021/204/MOD03.A2021204.0030.061.2021204065429.hdf']\n",
      "['/data/keeling/a/yulanh/satellite/TerraDataArchive/MODIS/MOD03/2021/052/MOD03.A2021052.2215.061.2021053053315.hdf']\n",
      "['/data/keeling/a/yulanh/satellite/TerraDataArchive/MODIS/MOD03/2021/356/MOD03.A2021356.1035.061.2021356164932.hdf']\n",
      "['/data/keeling/a/yulanh/satellite/TerraDataArchive/MODIS/MOD03/2021/162/MOD03.A2021162.1725.061.2021162223412.hdf']\n",
      "['/data/keeling/a/yulanh/satellite/TerraDataArchive/MODIS/MOD03/2021/130/MOD03.A2021130.1905.061.2021131010437.hdf']\n",
      "['/data/keeling/a/yulanh/satellite/TerraDataArchive/MODIS/MOD03/2021/206/MOD03.A2021206.2100.061.2021207042538.hdf']\n",
      "['/data/keeling/a/yulanh/satellite/TerraDataArchive/MODIS/MOD03/2021/180/MOD03.A2021180.1855.061.2021181004231.hdf']\n",
      "['/data/keeling/a/yulanh/satellite/TerraDataArchive/MODIS/MOD03/2021/102/MOD03.A2021102.1320.061.2021102191651.hdf']\n",
      "['/data/keeling/a/yulanh/satellite/TerraDataArchive/MODIS/MOD03/2021/312/MOD03.A2021312.1230.061.2021312185413.hdf']\n",
      "['/data/keeling/a/yulanh/satellite/TerraDataArchive/MODIS/MOD03/2021/057/MOD03.A2021057.2040.061.2021058041705.hdf']\n",
      "['/data/keeling/a/yulanh/satellite/TerraDataArchive/MODIS/MOD03/2021/016/MOD03.A2021016.2010.061.2021017024305.hdf']\n",
      "['/data/keeling/a/yulanh/satellite/TerraDataArchive/MODIS/MOD03/2021/320/MOD03.A2021320.1815.061.2021321012753.hdf']\n",
      "['/data/keeling/a/yulanh/satellite/TerraDataArchive/MODIS/MOD03/2021/240/MOD03.A2021240.0235.061.2021240084634.hdf']\n",
      "['/data/keeling/a/yulanh/satellite/TerraDataArchive/MODIS/MOD03/2021/283/MOD03.A2021283.0910.061.2021283145443.hdf']\n",
      "['/data/keeling/a/yulanh/satellite/TerraDataArchive/MODIS/MOD03/2021/198/MOD03.A2021198.0535.061.2021198111933.hdf']\n",
      "['/data/keeling/a/yulanh/satellite/TerraDataArchive/MODIS/MOD03/2021/146/MOD03.A2021146.1125.061.2021146170947.hdf']\n",
      "['/data/keeling/a/yulanh/satellite/TerraDataArchive/MODIS/MOD03/2021/242/MOD03.A2021242.2305.061.2021243053633.hdf']\n",
      "['/data/keeling/a/yulanh/satellite/TerraDataArchive/MODIS/MOD03/2021/261/MOD03.A2021261.1020.061.2021261164408.hdf']\n",
      "['/data/keeling/a/yulanh/satellite/TerraDataArchive/MODIS/MOD03/2021/194/MOD03.A2021194.2300.061.2021195053948.hdf']\n",
      "['/data/keeling/a/yulanh/satellite/TerraDataArchive/MODIS/MOD03/2021/290/MOD03.A2021290.1120.061.2021290171902.hdf']\n",
      "['/data/keeling/a/yulanh/satellite/TerraDataArchive/MODIS/MOD03/2021/165/MOD03.A2021165.2200.061.2021166052103.hdf']\n",
      "['/data/keeling/a/yulanh/satellite/TerraDataArchive/MODIS/MOD03/2021/055/MOD03.A2021055.1730.061.2021055225833.hdf']\n",
      "['/data/keeling/a/yulanh/satellite/TerraDataArchive/MODIS/MOD03/2021/114/MOD03.A2021114.0945.061.2021114151117.hdf']\n",
      "['/data/keeling/a/yulanh/satellite/TerraDataArchive/MODIS/MOD03/2021/331/MOD03.A2021331.2115.061.2021332025758.hdf']\n",
      "['/data/keeling/a/yulanh/satellite/TerraDataArchive/MODIS/MOD03/2021/128/MOD03.A2021128.1225.061.2021132202952.hdf']\n",
      "['/data/keeling/a/yulanh/satellite/TerraDataArchive/MODIS/MOD03/2021/167/MOD03.A2021167.0330.061.2021167083634.hdf']\n",
      "['/data/keeling/a/yulanh/satellite/TerraDataArchive/MODIS/MOD03/2021/124/MOD03.A2021124.1345.061.2021125171813.hdf']\n",
      "['/data/keeling/a/yulanh/satellite/TerraDataArchive/MODIS/MOD03/2021/037/MOD03.A2021037.0310.061.2021037090157.hdf']\n",
      "['/data/keeling/a/yulanh/satellite/TerraDataArchive/MODIS/MOD03/2021/118/MOD03.A2021118.0825.061.2021118172020.hdf']\n",
      "['/data/keeling/a/yulanh/satellite/TerraDataArchive/MODIS/MOD03/2021/144/MOD03.A2021144.1740.061.2021144224337.hdf']\n",
      "['/data/keeling/a/yulanh/satellite/TerraDataArchive/MODIS/MOD03/2021/089/MOD03.A2021089.1305.061.2021089185554.hdf']\n",
      "['/data/keeling/a/yulanh/satellite/TerraDataArchive/MODIS/MOD03/2021/290/MOD03.A2021290.2035.061.2021291030722.hdf']\n"
     ]
    },
    {
     "ename": "KeyboardInterrupt",
     "evalue": "",
     "output_type": "error",
     "traceback": [
      "\u001b[0;31m---------------------------------------------------------------------------\u001b[0m",
      "\u001b[0;31mKeyboardInterrupt\u001b[0m                         Traceback (most recent call last)",
      "\u001b[0;32m/tmp/ipykernel_105278/2035883023.py\u001b[0m in \u001b[0;36m<module>\u001b[0;34m\u001b[0m\n\u001b[1;32m    118\u001b[0m             \u001b[0;31m#                     year+'/'+Julday+'/MYD03.A'+yyyymmdd+'*')\u001b[0m\u001b[0;34m\u001b[0m\u001b[0;34m\u001b[0m\u001b[0;34m\u001b[0m\u001b[0m\n\u001b[1;32m    119\u001b[0m             \u001b[0mprint\u001b[0m\u001b[0;34m(\u001b[0m\u001b[0mmod03fname\u001b[0m\u001b[0;34m)\u001b[0m\u001b[0;34m\u001b[0m\u001b[0;34m\u001b[0m\u001b[0m\n\u001b[0;32m--> 120\u001b[0;31m             \u001b[0mhdf\u001b[0m\u001b[0;34m=\u001b[0m\u001b[0mSD\u001b[0m\u001b[0;34m(\u001b[0m\u001b[0mmod03fname\u001b[0m\u001b[0;34m[\u001b[0m\u001b[0;36m0\u001b[0m\u001b[0;34m]\u001b[0m\u001b[0;34m)\u001b[0m\u001b[0;34m\u001b[0m\u001b[0;34m\u001b[0m\u001b[0m\n\u001b[0m\u001b[1;32m    121\u001b[0m             \u001b[0mmodlat\u001b[0m\u001b[0;34m=\u001b[0m\u001b[0mhdf\u001b[0m\u001b[0;34m.\u001b[0m\u001b[0mselect\u001b[0m\u001b[0;34m(\u001b[0m\u001b[0;34m'Latitude'\u001b[0m\u001b[0;34m)\u001b[0m\u001b[0;34m\u001b[0m\u001b[0;34m\u001b[0m\u001b[0m\n\u001b[1;32m    122\u001b[0m             \u001b[0mmodlat\u001b[0m\u001b[0;34m=\u001b[0m\u001b[0mmodlat\u001b[0m\u001b[0;34m[\u001b[0m\u001b[0;34m:\u001b[0m\u001b[0;34m,\u001b[0m\u001b[0;34m:\u001b[0m\u001b[0;34m]\u001b[0m\u001b[0;34m\u001b[0m\u001b[0;34m\u001b[0m\u001b[0m\n",
      "\u001b[0;32m~/anaconda3/lib/python3.8/site-packages/pyhdf/SD.py\u001b[0m in \u001b[0;36m__init__\u001b[0;34m(self, path, mode)\u001b[0m\n\u001b[1;32m   1426\u001b[0m             \u001b[0;32mraise\u001b[0m \u001b[0mHDF4Error\u001b[0m\u001b[0;34m(\u001b[0m\u001b[0;34m\"SD: bad mode, READ or WRITE must be set\"\u001b[0m\u001b[0;34m)\u001b[0m\u001b[0;34m\u001b[0m\u001b[0;34m\u001b[0m\u001b[0m\n\u001b[1;32m   1427\u001b[0m \u001b[0;34m\u001b[0m\u001b[0m\n\u001b[0;32m-> 1428\u001b[0;31m         \u001b[0mid\u001b[0m \u001b[0;34m=\u001b[0m \u001b[0m_C\u001b[0m\u001b[0;34m.\u001b[0m\u001b[0mSDstart\u001b[0m\u001b[0;34m(\u001b[0m\u001b[0mpath\u001b[0m\u001b[0;34m,\u001b[0m \u001b[0mmode\u001b[0m\u001b[0;34m)\u001b[0m\u001b[0;34m\u001b[0m\u001b[0;34m\u001b[0m\u001b[0m\n\u001b[0m\u001b[1;32m   1429\u001b[0m         \u001b[0m_checkErr\u001b[0m\u001b[0;34m(\u001b[0m\u001b[0;34m'SD'\u001b[0m\u001b[0;34m,\u001b[0m \u001b[0mid\u001b[0m\u001b[0;34m,\u001b[0m \u001b[0;34m\"cannot open %s\"\u001b[0m \u001b[0;34m%\u001b[0m \u001b[0mpath\u001b[0m\u001b[0;34m)\u001b[0m\u001b[0;34m\u001b[0m\u001b[0;34m\u001b[0m\u001b[0m\n\u001b[1;32m   1430\u001b[0m         \u001b[0mself\u001b[0m\u001b[0;34m.\u001b[0m\u001b[0m_id\u001b[0m \u001b[0;34m=\u001b[0m \u001b[0mid\u001b[0m\u001b[0;34m\u001b[0m\u001b[0;34m\u001b[0m\u001b[0m\n",
      "\u001b[0;31mKeyboardInterrupt\u001b[0m: "
     ]
    }
   ],
   "source": [
    "def read_text(fname):\n",
    "    fo=open(fname,'r') #create file object\n",
    "    #headstr=fo.readline()\n",
    "    data=fo.readlines()\n",
    "    #print (data)\n",
    "    fo.close()  # close object\n",
    "    return data\n",
    "\n",
    "# main\n",
    "import os \n",
    "import matplotlib as mpl\n",
    "import matplotlib.pyplot as plt\n",
    "#from mpl_toolkits.basemap import Basemap\n",
    "from datetime import datetime, date, timedelta\n",
    "import numpy as np\n",
    "import pandas as pd\n",
    "import glob\n",
    "from pyhdf.SD import SD, SDC\n",
    "import h5py\n",
    "#from pyproj import Geod\n",
    "import scipy,scipy.ndimage\n",
    "from shapely.geometry import Polygon\n",
    "\n",
    "print('start',datetime.now())\n",
    "#fnames=glob.glob('/data/keeling/a/yulanh/c/OT_output/2018/MODIS_OTinfo_2018116.0030.txt')\n",
    "#'2000','2001','2002','2003','2004','2005','2006','2007',\n",
    "#=['2000','2001','2002','2003','2004','2005','2006','2007','2008','2009','2010','2011','2012','2013',\\\n",
    "#       '2014','2015','2016','2017','2018','2019','2020']\n",
    "years=['2021']#,'2019','2020']\n",
    "#geod = Geod('+a=6378137 +f=0.0033528106647475126')\n",
    "print(years)\n",
    "for year in years:\n",
    "    \n",
    "    fnames=glob.glob('/data/keeling/a/yulanh/c/OT_output/Terra/'+year+'/*.txt')\n",
    "    #fnames=glob.glob('/data/keeling/a/yulanh/c/OT_output/2018/MODIS_OTinfo_2018059.0135.txt')\n",
    "    #hy5file='/data/keeling/a/yulanh/c/OT_climatology/MODIS_OTNOT_summary_polygon2_'+year+'.h5'\n",
    "    hy5file='test.h5'\n",
    "    NOTA=100 \n",
    "    Nhetero=60 # bin0.005, 0-0.2\n",
    "    hetero_bin=0.005\n",
    "    NBTD_wv=100 # bin 0.25, 0-25 K\n",
    "    wv_bin=0.25\n",
    "    NBTD_ci=200 # bin 0.5, 0-60 K\n",
    "    ci_bin=0.5\n",
    "    NBTD_trop=200 # bin 0.5, 0-50K\n",
    "    trop_bin=0.5\n",
    "    NBT=90 #150-240\n",
    "    bt_bin=1\n",
    "\n",
    "    Nlon=360\n",
    "    Nlat=180\n",
    "    trop_prob_threshold=0.9\n",
    "    mid_prob_threshold=0.9\n",
    "\n",
    "    OT_map=np.zeros((360,180,12,2),'i') # 12 for month; #0 for day, 1 for night\n",
    "    OTA_map=np.zeros((360,180,12,2),'f')\n",
    "    OTA_poly_map=np.zeros((360,180,12,2),'f')\n",
    "    OT_hetero_map=np.zeros((360,180,12,2),'f')\n",
    "\n",
    "    OT_map_LP=np.zeros((360,180,12,2),'i') #0 for day, 1 for night\n",
    "    OTA_map_LP=np.zeros((360,180,12,2),'f')\n",
    "    OTA_poly_map_LP=np.zeros((360,180,12,2),'f')\n",
    "    OT_hetero_map_LP=np.zeros((360,180,12,2),'f')\n",
    "\n",
    "    OTA_pdf  =np.zeros((Nlat,NOTA,12,2),'i')\n",
    "    OTA_poly_pdf  =np.zeros((Nlat,NOTA,12,2),'i')\n",
    "    hetero_pdf=np.zeros((Nlat,Nhetero,12,2),'i')\n",
    "    BTD_wv_pdf  =np.zeros((Nlat,NBTD_wv,12,2),'i')\n",
    "    BTD_ci_pdf  =np.zeros((Nlat,NBTD_ci,12,2),'i')\n",
    "    BTD_trop_pdf  =np.zeros((Nlat,NBTD_trop,12,2),'i')\n",
    "    OTBT_pdf = np.zeros((Nlat,NBT,12,2),'i')\n",
    "\n",
    "    OTA_LP_pdf=np.zeros((Nlat,NOTA,12,2),'i')\n",
    "    OTA_poly_LP_pdf=np.zeros((Nlat,NOTA,12,2),'i')\n",
    "    hetero_LP_pdf=np.zeros((Nlat,Nhetero,12,2),'i')\n",
    "    BTD_wv_LP_pdf  =np.zeros((Nlat,NBTD_wv,12,2),'i')\n",
    "    BTD_ci_LP_pdf  =np.zeros((Nlat,NBTD_ci,12,2),'i')\n",
    "    BTD_trop_LP_pdf  =np.zeros((Nlat,NBTD_trop,12,2),'i')\n",
    "    OTBT_LP_pdf = np.zeros((Nlat,NBT,12,2),'i')\n",
    "\n",
    "    OTA_day_10_points=np.empty((0),'f') # record the data to get the mean, and std\n",
    "    OTA_day_1025_points=np.empty((0),'f')\n",
    "    OTA_day_2540_points=np.empty((0),'f')\n",
    "    OTA_day_4060_points=np.empty((0),'f')\n",
    "    OTA_night_10_points=np.empty((0),'f') # record the data to get the mean, and std\n",
    "    OTA_night_1025_points=np.empty((0),'f')\n",
    "    OTA_night_2540_points=np.empty((0),'f')\n",
    "    OTA_night_4060_points=np.empty((0),'f')\n",
    "\n",
    "    OTA_poly_day_10_points=np.empty((0),'f') # record the data to get the mean, and std\n",
    "    OTA_poly_day_1025_points=np.empty((0),'f')\n",
    "    OTA_poly_day_2540_points=np.empty((0),'f')\n",
    "    OTA_poly_day_4060_points=np.empty((0),'f')\n",
    "    OTA_poly_night_10_points=np.empty((0),'f') # record the data to get the mean, and std\n",
    "    OTA_poly_night_1025_points=np.empty((0),'f')\n",
    "    OTA_poly_night_2540_points=np.empty((0),'f')\n",
    "    OTA_poly_night_4060_points=np.empty((0),'f')\n",
    "    #OTA_night_points=[[],[],[]]\n",
    "    #fnames=fnames[len(fnames)-10:len(fnames)-1]\n",
    "    #fnames=['/data/keeling/a/yulanh/c/OT_output/Terra/2021/MODIS_OTinfo_2021191.2155.txt']\n",
    "    \n",
    "    for fname in fnames:\n",
    "\n",
    "        file_size=os.path.getsize(fname)\n",
    "\n",
    "        if (file_size ==0):\n",
    "            os.system('rm '+fname)\n",
    "\n",
    "        if (file_size > 0) :\n",
    "            #print(fname,file_size)\n",
    "            \n",
    "            #get the radiance and geolocation file\n",
    "            Julday=fname[-12:-9]\n",
    "            yyyymmdd=fname[-16:-4] \n",
    "            mod03fname=glob.glob('/data/keeling/a/yulanh/satellite/TerraDataArchive/MODIS/MOD03/'+\\\n",
    "                                 year+'/'+Julday+'/MOD03.A'+yyyymmdd+'*')\n",
    "            #mod03fname=glob.glob('/data/gdi/e/MODIS/MYD03/'+\\\n",
    "            #                     year+'/'+Julday+'/MYD03.A'+yyyymmdd+'*')\n",
    "            print(mod03fname)\n",
    "            hdf=SD(mod03fname[0])\n",
    "            modlat=hdf.select('Latitude')\n",
    "            modlat=modlat[:,:]\n",
    "            modlon=hdf.select('Longitude')\n",
    "            modlon=modlon[:,:]\n",
    "            \n",
    "            data=read_text(fname)\n",
    "            splitcol=data[0].split(' ')\n",
    "            Ncol=len(splitcol)-splitcol.count('')\n",
    "            Nrow=len(data)\n",
    "\n",
    "            #print(year_st,day_st)\n",
    "            start_date=date(int(year),1,1)\n",
    "            convt_date=start_date+timedelta(days=int(Julday)-1)\n",
    "            date_res  = convt_date.strftime(\"%m-%d-%y\")\n",
    "            month_st=date_res[0:2]\n",
    "            month_scp=int(month_st)-1\n",
    "            #print(month_scp,month_st)\n",
    "            #print(date_res)    \n",
    "            # transfer data from string to float\n",
    "            dataT=np.zeros((Nrow,Ncol),'f')\n",
    "            for i in range(Nrow):\n",
    "                splitcol=data[i].split(' ')\n",
    "                k=0\n",
    "                for j in range(len(splitcol)):\n",
    "                    if splitcol[j] != '' and splitcol[j] != '\\n' :\n",
    "\n",
    "                        dataT[i,k]=float(splitcol[j])\n",
    "                        k=k+1\n",
    "\n",
    "            #print(dataT[0,:])\n",
    "            #judge day and night\n",
    "\n",
    "            # record data\n",
    "            #lon_scp=np.round(dataT[:,2])\n",
    "            #lat_scp=np.round(dataT[:,3])\n",
    "            #OTA_scp=np.round(dataT[:,5])\n",
    "            #print(dataT.shape)\n",
    "            proba = dataT[:,4]\n",
    "\n",
    "            for i in range(Nrow):\n",
    "                tpOTA=dataT[i,5]\n",
    "                BT11_minOT=dataT[i,6]\n",
    "                BT11_aveOT=dataT[i,7]\n",
    "                BT67_minOT=dataT[i,8]\n",
    "                BT67_aveOT=dataT[i,9]\n",
    "                trop_T = dataT[i,10]\n",
    "                BT11_aveci=dataT[i,11]\n",
    "                hetero= dataT[i,30]/((BT11_aveOT+BT11_aveci)/2.0)\n",
    "                OTedge=dataT[i,20:28]\n",
    "                xscp = dataT[i,0]\n",
    "                yscp = dataT[i,1]\n",
    "                #print(tpOTA,BT11_minOT,BT11_aveOT,BT67_minOT,BT67_aveOT,trop_T,BT11_aveci,hetero)\n",
    "                data_process_flag=0\n",
    "                \n",
    "                #=== to calculate the OTA from polygon =====\n",
    "                x0=yscp\n",
    "                y0=xscp\n",
    "                x1_all = [x0 + OTedge[0], x0 + OTedge[1]*np.cos(45*np.pi/180, dtype='d'), x0          , \\\n",
    "                      x0 - OTedge[3]*np.cos(45*np.pi/180, dtype='d'), x0 -OTedge[4]*np.cos(45*np.pi/180, dtype='d'), \\\n",
    "                      x0 -OTedge[5]*np.cos(45*np.pi/180, dtype='d'), x0                               , \\\n",
    "                      x0 + OTedge[7]*np.cos(45*np.pi/180, dtype='d')]\n",
    "                y1_all = [y0            , y0 + OTedge[1]*np.cos(45*np.pi/180, dtype='f'), y0+OTedge[2], \\\n",
    "                      y0 + OTedge[3]*np.cos(45*np.pi/180, dtype='d'), y0                                 , \\\n",
    "                      y0 - OTedge[5]*np.cos(45*np.pi/180, dtype='d'), y0-OTedge[6]*np.cos(45*np.pi/180, dtype='d') , \\\n",
    "                      y0 -OTedge[7]*np.cos(45*np.pi/180, dtype='d')]\n",
    "\n",
    "                #lats_bound= scipy.ndimage.map_coordinates(modlat, np.vstack((x1_all,y1_all)))\n",
    "                #lons_bound= scipy.ndimage.map_coordinates(modlon, np.vstack((x1_all,y1_all)))\n",
    "                \n",
    "                #area, perim = geod.polygon_area_perimeter(lons_bound, lats_bound)\n",
    "                #tpOTA_poly=np.abs(area)/1000000.0\n",
    "                tpOTA_poly = Polygon(zip(x1_all,y1_all)).area\n",
    "                #if np.isnan(tpOTA_poly):\n",
    "                #    tpOTA_poly=np.nan_to_num(tpOTA_poly)\n",
    "                #    print(fname,tpOTA_poly,dataT[i,5],OTedge)\n",
    "                #if tpOTA_poly > 500:\n",
    "                #    print(lats_bound,lons_bound)\n",
    "                #    print(x1_all,y1_all)\n",
    "                #    print(fname,tpOTA_poly,dataT[i,5],OTedge)\n",
    "                    \n",
    "                #print(tpOTA,tpOTA_poly)\n",
    "    #lons[j]= scipy.ndimage.map_coordinates(mod_lon, np.vstack((x1,y1)))  \n",
    "                if (proba[i] >= trop_prob_threshold and abs(dataT[i,3]) < 25 and BT11_minOT > 150):# and hetero > 0.04):\n",
    "                    data_process_flag=1\n",
    "                if (proba[i] >= trop_prob_threshold and abs(dataT[i,3]) >=25 and BT11_minOT > 150): # and hetero > 0.045):\n",
    "                    data_process_flag=1\n",
    "\n",
    "                if (proba[i] < trop_prob_threshold and abs(dataT[i,3]) < 25 and BT11_minOT > 150):# and hetero > 0.04):\n",
    "                    data_process_flag=2\n",
    "                if (proba[i] < trop_prob_threshold and abs(dataT[i,3]) >=25 and BT11_minOT > 150): # and hetero > 0.045):\n",
    "                    data_process_flag=2\n",
    "\n",
    "                lon_scp=round(dataT[i,2]+180)\n",
    "                lat_scp=round(dataT[i,3]+90)\n",
    "                OTA_scp=round(dataT[i,5]/10)\n",
    "                OTA_poly_scp=round(tpOTA_poly/10)\n",
    "                \n",
    "                hetero_scp=round(hetero/hetero_bin)\n",
    "                if (hetero_scp > Nhetero-1):\n",
    "                    hetero_scp=Nhetero-1\n",
    "                #print(BT67_aveOT,BT11_aveOT)\n",
    "                BTD_wv_scp=round((BT67_aveOT-BT11_aveOT)/wv_bin)\n",
    "                if (BTD_wv_scp > NBTD_wv-1):\n",
    "                    BTD_wv_scp=NBTD_wv-1\n",
    "\n",
    "                BTD_ci_scp=round((BT11_aveci-BT11_minOT)/ci_bin)\n",
    "                if (BTD_ci_scp > NBTD_ci-1):\n",
    "                    BTD_ci_scp=NBTD_ci-1\n",
    "\n",
    "                BTD_trop_scp=round((trop_T-BT11_minOT)/trop_bin)\n",
    "                if (BTD_trop_scp > NBTD_trop-1):\n",
    "                    BTD_trop_scp=NBTD_trop-1\n",
    "\n",
    "                BT_scp=round((BT11_minOT-150)/bt_bin)\n",
    "                if (BT_scp > NBT-1):\n",
    "                    BT_scp=NBT-1\n",
    "                #print(hetero,hetero_scp)\n",
    "             \n",
    "                SLT=float(fname[-8:-6])+dataT[i,2]/15.0 #solar local time\n",
    "                #print(fname[-8:-6],dataT[i,2], SLT)\n",
    "                dnflag=0\n",
    "                if (SLT < 0) :\n",
    "                    SLT=SLT+24\n",
    "\n",
    "                if (SLT > 24) :\n",
    "                    SLT=SLT-24\n",
    "\n",
    "                #if (SLT > 18) :\n",
    "                #    dnflag=1\n",
    "                #if ((SLT > 0) & (SLT < 6)):\n",
    "                #    dnflag =1\n",
    "\n",
    "                if ((SLT >= 6) & (SLT < 18)):\n",
    "                    dnflag=0\n",
    "                else:\n",
    "                    dnflag=1\n",
    "                \n",
    "                if lon_scp > (Nlon-1):\n",
    "                    lon_scp=Nlon-1     \n",
    "\n",
    "                if lat_scp > (Nlat-1):\n",
    "                    lat_scp=Nlat-1   \n",
    "\n",
    "                if OTA_scp > (NOTA-1):\n",
    "                    OTA_scp=NOTA-1\n",
    "                    \n",
    "                if OTA_poly_scp > (NOTA-1):\n",
    "                    OTA_poly_scp=NOTA-1\n",
    "                \n",
    "                #print('dn flag',SLT,dnflag)\n",
    "                #print(dataT[i,2],lon_scp,dataT[i,3],lat_scp,dnflag,month_scp,dataT[i,5],proba[i])\n",
    "                #print(BT11_aveci,BT11_minOT,BTD_ci_scp,dataT[i,3],lat_scp,month_scp,dnflag)\n",
    "                #print(data_process_flag,dnflag,dataT[i,3],dataT[i,4],dataT[i,5])\n",
    "                if (data_process_flag == 2):\n",
    "                    OT_map_LP[lon_scp,lat_scp,month_scp,dnflag]=OT_map_LP[lon_scp,lat_scp,month_scp,dnflag]+1\n",
    "                    OTA_map_LP[lon_scp,lat_scp,month_scp,dnflag]=OTA_map_LP[lon_scp,lat_scp,month_scp,dnflag]+tpOTA_poly\n",
    "                    OTA_poly_map_LP[lon_scp,lat_scp,month_scp,dnflag]=OTA_poly_map_LP[lon_scp,lat_scp,month_scp,dnflag]+dataT[i,5] \n",
    "                    OTA_LP_pdf[lat_scp,OTA_scp,month_scp,dnflag]=OTA_LP_pdf[lat_scp,OTA_scp,month_scp,dnflag]+1\n",
    "                    OTA_poly_LP_pdf[lat_scp,OTA_poly_scp,month_scp,dnflag]=\\\n",
    "                    OTA_poly_LP_pdf[lat_scp,OTA_poly_scp,month_scp,dnflag]+1\n",
    "                \n",
    "                    OT_hetero_map_LP[lon_scp,lat_scp,month_scp,dnflag]=OT_hetero_map_LP[lon_scp,lat_scp,month_scp,dnflag]+\\\n",
    "                        hetero\n",
    "                    hetero_LP_pdf[lat_scp,hetero_scp,month_scp,dnflag]=hetero_LP_pdf[lat_scp,hetero_scp,month_scp,dnflag]+1\n",
    "                    BTD_wv_LP_pdf[lat_scp,BTD_wv_scp,month_scp,dnflag]=BTD_wv_LP_pdf[lat_scp,BTD_wv_scp,month_scp,dnflag]+1\n",
    "                    BTD_ci_LP_pdf[lat_scp,BTD_ci_scp,month_scp,dnflag]=BTD_ci_LP_pdf[lat_scp,BTD_ci_scp,month_scp,dnflag]+1\n",
    "                    BTD_trop_LP_pdf[lat_scp,BTD_trop_scp,month_scp,dnflag]= BTD_trop_LP_pdf[lat_scp,BTD_trop_scp,month_scp,dnflag]+1\n",
    "                    OTBT_LP_pdf[lat_scp,BT_scp,month_scp,dnflag]=OTBT_LP_pdf[lat_scp,BT_scp,month_scp,dnflag]+1\n",
    "\n",
    "                if (data_process_flag == 1):\n",
    "                    OT_map[lon_scp,lat_scp,month_scp,dnflag]=OT_map[lon_scp,lat_scp,month_scp,dnflag]+1\n",
    "                    OTA_map[lon_scp,lat_scp,month_scp,dnflag]=OTA_map[lon_scp,lat_scp,month_scp,dnflag]+dataT[i,5] \n",
    "                    OTA_poly_map[lon_scp,lat_scp,month_scp,dnflag]=\\\n",
    "                    OTA_poly_map[lon_scp,lat_scp,month_scp,dnflag]+tpOTA_poly\n",
    "                    OTA_pdf[lat_scp,OTA_scp,month_scp,dnflag]=OTA_pdf[lat_scp,OTA_scp,month_scp,dnflag]+1\n",
    "                    OTA_poly_pdf[lat_scp,OTA_poly_scp,month_scp,dnflag]=\\\n",
    "                    OTA_poly_pdf[lat_scp,OTA_poly_scp,month_scp,dnflag]+1\n",
    "                  \n",
    "                    OT_hetero_map[lon_scp,lat_scp,month_scp,dnflag]=OT_hetero_map[lon_scp,lat_scp,month_scp,dnflag]+\\\n",
    "                        hetero\n",
    "                    hetero_pdf[lat_scp,hetero_scp,month_scp,dnflag]=hetero_pdf[lat_scp,hetero_scp,month_scp,dnflag]+1\n",
    "                    BTD_wv_pdf[lat_scp,BTD_wv_scp,month_scp,dnflag]=BTD_wv_pdf[lat_scp,BTD_wv_scp,month_scp,dnflag]+1\n",
    "                    BTD_ci_pdf[lat_scp,BTD_ci_scp,month_scp,dnflag]=BTD_ci_pdf[lat_scp,BTD_ci_scp,month_scp,dnflag]+1\n",
    "                    BTD_trop_pdf[lat_scp,BTD_trop_scp,month_scp,dnflag]= BTD_trop_pdf[lat_scp,BTD_trop_scp,month_scp,dnflag]+1\n",
    "                    OTBT_pdf[lat_scp,BT_scp,month_scp,dnflag]=OTBT_pdf[lat_scp,BT_scp,month_scp,dnflag]+1\n",
    "\n",
    "                    \n",
    "                    if (dnflag == 0) :\n",
    "                        if ((abs(dataT[i,3]) <10)):\n",
    "                            OTA_day_10_points=\\\n",
    "                            np.append(OTA_day_10_points,dataT[i,5])\n",
    "                            OTA_poly_day_10_points=\\\n",
    "                            np.append(OTA_poly_day_10_points,tpOTA_poly)         \n",
    "                            \n",
    "                        if ((abs(dataT[i,3]) >=10) & (abs(dataT[i,3]) < 25)):\n",
    "                            OTA_day_1025_points=\\\n",
    "                            np.append(OTA_day_1025_points,dataT[i,5])\n",
    "                            OTA_poly_day_1025_points=\\\n",
    "                            np.append(OTA_poly_day_1025_points,tpOTA_poly)\n",
    "                            \n",
    "                        if ((abs(dataT[i,3]) >=25) & (abs(dataT[i,3]) < 40)):\n",
    "                            OTA_day_2540_points=\\\n",
    "                            np.append(OTA_day_2540_points,dataT[i,5])\n",
    "                            OTA_poly_day_2540_points=\\\n",
    "                            np.append(OTA_poly_day_2540_points,tpOTA_poly)\n",
    "                            \n",
    "                        if ((abs(dataT[i,3]) >=40) & (abs(dataT[i,3]) < 60)):\n",
    "                            OTA_day_4060_points=\\\n",
    "                            np.append(OTA_day_4060_points,dataT[i,5])\n",
    "                            OTA_poly_day_4060_points=\\\n",
    "                            np.append(OTA_poly_day_4060_points,tpOTA_poly)\n",
    "                     \n",
    "                    if (dnflag == 1) :\n",
    "                        if((abs(dataT[i,3]) <10)):\n",
    "                            OTA_night_10_points=\\\n",
    "                            np.append(OTA_night_10_points,dataT[i,5])\n",
    "                            OTA_poly_night_10_points=\\\n",
    "                            np.append(OTA_poly_night_10_points,tpOTA_poly)\n",
    "                            \n",
    "                        if ((abs(dataT[i,3]) >=10) & (abs(dataT[i,3]) < 25)):\n",
    "                            OTA_night_1025_points=\\\n",
    "                            np.append(OTA_night_1025_points,dataT[i,5])\n",
    "                            OTA_poly_night_1025_points=\\\n",
    "                            np.append(OTA_poly_night_1025_points,tpOTA_poly)\n",
    "                            \n",
    "                        if ((abs(dataT[i,3]) >=25) & (abs(dataT[i,3]) < 40)):\n",
    "                            OTA_night_2540_points=\\\n",
    "                            np.append(OTA_night_2540_points,dataT[i,5])\n",
    "                            OTA_poly_night_2540_points=\\\n",
    "                            np.append(OTA_poly_night_2540_points,tpOTA_poly)\n",
    "                            \n",
    "                        if ((abs(dataT[i,3]) >=40) & (abs(dataT[i,3]) < 60)):\n",
    "                            OTA_night_4060_points=\\\n",
    "                            np.append(OTA_night_4060_points,dataT[i,5])   \n",
    "                            OTA_poly_night_4060_points=\\\n",
    "                            np.append(OTA_poly_night_4060_points,tpOTA_poly)   \n",
    "                            \n",
    "                    \n",
    " #   OTA_day_mid_mean=np.mean(OTA_day_mid[1:OTA_day_mid.shape[0]])\n",
    " #   OTA_day_mid_std=np.std(OTA_day_mid[1:OTA_day_mid.shape[0]])\n",
    " #   OTA_night_mid_mean=np.mean(OTA_night_mid[1:OTA_night_mid.shape[0]])\n",
    " #   OTA_night_mid_std=np.std(OTA_night_mid[1:OTA_night_mid.shape[0]])\n",
    "\n",
    " #   OTA_day_trop_mean=np.mean(OTA_day_trop[1:OTA_day_trop.shape[0]])\n",
    " #   OTA_day_trop_std=np.std(OTA_day_trop[1:OTA_day_trop.shape[0]])\n",
    " #   OTA_night_trop_mean=np.mean(OTA_night_trop[1:OTA_night_trop.shape[0]])\n",
    " #   OTA_night_trop_std=np.std(OTA_night_trop[1:OTA_night_trop.shape[0]])\n",
    "      \n",
    "    #print(OTA_night_10_points)\n",
    "    #===== write hdf5 =============\n",
    "    hf=h5py.File(hy5file,'w')\n",
    "    hf.create_dataset('OT_num_LP',data=OT_map_LP)\n",
    "    hf.create_dataset('OTA_map_LP',data=OTA_map_LP)\n",
    "    hf.create_dataset('OTA_poly_map_LP',data=OTA_poly_map_LP)\n",
    "    hf.create_dataset('OT_hetero_map_LP',data=OT_hetero_map_LP)\n",
    "\n",
    "    hf.create_dataset('OTA_LP_pdf',data=OTA_LP_pdf)\n",
    "    hf.create_dataset('OTA_poly_LP_pdf',data=OTA_poly_LP_pdf)\n",
    "    hf.create_dataset('hetero_LP_pdf',data=hetero_LP_pdf)\n",
    "    hf.create_dataset('BTD_wv_LP_pdf',data=BTD_wv_LP_pdf)\n",
    "    hf.create_dataset('BTD_ci_LP_pdf',data=BTD_ci_LP_pdf)\n",
    "    hf.create_dataset('BTD_trop_LP_pdf',data=BTD_trop_LP_pdf)\n",
    "    hf.create_dataset('OTBT_LP_pdf',data=OTBT_LP_pdf)\n",
    "\n",
    "    hf.create_dataset('OT_num',data=OT_map)\n",
    "    hf.create_dataset('OTA_map',data=OTA_map)\n",
    "    hf.create_dataset('OTA_poly_map',data=OTA_poly_map)\n",
    "    hf.create_dataset('OT_hetero_map',data=OT_hetero_map)\n",
    "\n",
    "    hf.create_dataset('OTA_pdf',data=OTA_pdf)\n",
    "    hf.create_dataset('OTA_poly_pdf',data=OTA_poly_pdf)\n",
    "    hf.create_dataset('hetero_pdf',data=hetero_pdf)\n",
    "    hf.create_dataset('BTD_wv_pdf',data=BTD_wv_pdf)\n",
    "    hf.create_dataset('BTD_ci_pdf',data=BTD_ci_pdf)\n",
    "    hf.create_dataset('BTD_trop_pdf',data=BTD_trop_pdf)\n",
    "    hf.create_dataset('OTBT_pdf',data=OTBT_pdf)\n",
    "    \n",
    "    hf.create_dataset('OTA_day_10_points',data=OTA_day_10_points)\n",
    "    hf.create_dataset('OTA_day_1025_points',data=OTA_day_1025_points)\n",
    "    hf.create_dataset('OTA_day_2540_points',data=OTA_day_2540_points)\n",
    "    hf.create_dataset('OTA_day_4060_points',data=OTA_day_4060_points)\n",
    "    \n",
    "    hf.create_dataset('OTA_night_10_points',data=OTA_night_10_points)\n",
    "    hf.create_dataset('OTA_night_1025_points',data=OTA_night_1025_points)\n",
    "    hf.create_dataset('OTA_night_2540_points',data=OTA_night_2540_points)\n",
    "    hf.create_dataset('OTA_night_4060_points',data=OTA_night_4060_points)\n",
    "\n",
    "    hf.create_dataset('OTA_poly_day_10_points',data=OTA_poly_day_10_points)\n",
    "    hf.create_dataset('OTA_poly_day_1025_points',data=OTA_poly_day_1025_points)\n",
    "    hf.create_dataset('OTA_poly_day_2540_points',data=OTA_poly_day_2540_points)\n",
    "    hf.create_dataset('OTA_poly_day_4060_points',data=OTA_poly_day_4060_points)\n",
    "    \n",
    "    hf.create_dataset('OTA_poly_night_10_points',data=OTA_poly_night_10_points)\n",
    "    hf.create_dataset('OTA_poly_night_1025_points',data=OTA_poly_night_1025_points)\n",
    "    hf.create_dataset('OTA_poly_night_2540_points',data=OTA_poly_night_2540_points)\n",
    "    hf.create_dataset('OTA_poly_night_4060_points',data=OTA_poly_night_4060_points)\n",
    "#    hf.create_dataset('OTA_day_midlat_mean',data=OTA_day_mid_mean)\n",
    "#    hf.create_dataset('OTA_day_midlat_std',data=OTA_day_mid_std)\n",
    "#    hf.create_dataset('OTA_night_midlat_mean',data=OTA_night_mid_mean)\n",
    "#    hf.create_dataset('OTA_night_midlat_std',data=OTA_night_mid_std)\n",
    "\n",
    "#    hf.create_dataset('OTA_day_tropic_mean',data=OTA_day_trop_mean)\n",
    "#    hf.create_dataset('OTA_day_tropic_std',data=OTA_day_trop_std)\n",
    "#    hf.create_dataset('OTA_night_tropic_mean',data=OTA_night_trop_mean)\n",
    "#    hf.create_dataset('OTA_night_tropic_std',data=OTA_night_trop_std)\n",
    "\n",
    "    hf.close()\n",
    "\n",
    "    print('finish',datetime.now())\n",
    "    #print(OTA_day_mid_mean,OTA_day_mid[1:OTA_day_mid.shape[0]])                \n",
    "    #plt.plot(np.reshape(OTA_pdf[:,0],NOTA))\n",
    "    #plt.show()\n",
    "    #p=plt.imshow(np.reshape(OT_map[:,:,1],(360,180)),vmin=0,vmax=30,cmap=plt.get_cmap('gist_gray'),aspect='auto')\n"
   ]
  },
  {
   "cell_type": "code",
   "execution_count": 12,
   "metadata": {},
   "outputs": [
    {
     "name": "stdout",
     "output_type": "stream",
     "text": [
      "104.04951119636708\n"
     ]
    }
   ],
   "source": [
    "from shapely.geometry import Polygon\n",
    "x=[1407.0, 1406.8284271247462, 1404.0, 1396.221825406948, 1402.585786437627, 1400.4644660940673, 1404.0, 1408.2426406871193]\n",
    "y=[21.0, 23.828426, 34.0, 28.77817459305202, 21.0, 17.464466094067262, 16.757359312880716, 16.757359312880716]\n",
    "\n",
    "print(Polygon(zip(x,y)).area)"
   ]
  },
  {
   "cell_type": "code",
   "execution_count": 45,
   "metadata": {},
   "outputs": [
    {
     "name": "stdout",
     "output_type": "stream",
     "text": [
      "[936, 934, 933, 932, 929, 931, 933, 935]\n",
      "[963, 964, 965, 964, 963, 961, 957, 961]\n",
      "[  53.347534   53.363224   53.369217   53.38204  -999.         53.401493\n",
      "   53.395966   53.36368 ]\n",
      "[ -68.1356    -68.10851   -68.085205  -68.0976   -999.        -68.14498\n",
      "  -68.22547   -68.16537 ]\n",
      "[[-999.       -999.       -999.       -999.       -999.       -999.      ]\n",
      " [-999.       -999.       -999.       -999.       -999.       -999.      ]\n",
      " [-999.       -999.       -999.       -999.       -999.       -999.      ]\n",
      " [-999.       -999.       -999.       -999.       -999.       -999.      ]\n",
      " [ -68.15757   -68.13994   -68.12228   -68.10474   -68.08755   -68.0697  ]\n",
      " [ -68.16254   -68.14498   -68.127396  -68.109856  -68.09256   -68.07512 ]] -999.0\n",
      "[3. 2. 2. 2. 5. 3. 9. 3.]\n",
      "0.7071067811865476\n",
      "0.0\n"
     ]
    }
   ],
   "source": [
    "\n",
    "x1_all = [x0 + OTedge[0], x0 + OTedge[1]*np.cos(45*np.pi/180), x0          , \\\n",
    "        x0 - OTedge[3]*np.cos(45*np.pi/180), x0 -OTedge[4]*np.cos(45*np.pi/180), \\\n",
    "        x0 -OTedge[5]*np.cos(45*np.pi/180), x0                               , \\\n",
    "        x0 + OTedge[7]*np.cos(45*np.pi/180)]\n",
    "y1_all = [y0            , y0 + OTedge[1]*np.cos(45*np.pi/180), y0+OTedge[2], \\\n",
    "        y0 + OTedge[3]*np.cos(45*np.pi/180), y0                                 , \\\n",
    "        y0 - OTedge[5]*np.cos(45*np.pi/180), y0-OTedge[6]*np.cos(45*np.pi/180) , \\\n",
    "        y0 -OTedge[7]*np.cos(45*np.pi/180)]\n",
    "x1_all=[round(x) for x in x1_all]\n",
    "y1_all=[round(y) for y in y1_all]\n",
    "print(x1_all)\n",
    "print(y1_all)\n",
    "lats_bound= scipy.ndimage.map_coordinates(modlat, np.vstack((x1_all,y1_all)))\n",
    "lons_bound= scipy.ndimage.map_coordinates(modlon, np.vstack((x1_all,y1_all)))\n",
    "print(lats_bound)\n",
    "print(lons_bound)\n",
    "print(modlon[929-3:929+3,963-3:963+3],modlat[929,963])\n",
    "print(OTedge)\n",
    "print(np.cos(45*np.pi/180.0, dtype='d'))\n",
    "a=np.nan\n",
    "if np.isnan(a):\n",
    "    a=np.nan_to_num(a)\n",
    "print(a)"
   ]
  },
  {
   "cell_type": "code",
   "execution_count": 39,
   "metadata": {},
   "outputs": [
    {
     "name": "stdout",
     "output_type": "stream",
     "text": [
      "20418\n"
     ]
    }
   ],
   "source": [
    "print(len(OTA_night_10_points)+len(OTA_night_1025_points)+len(OTA_night_2540_points)+len(OTA_night_10_points))"
   ]
  },
  {
   "cell_type": "code",
   "execution_count": 6,
   "metadata": {},
   "outputs": [
    {
     "name": "stdout",
     "output_type": "stream",
     "text": [
      "0 0\n"
     ]
    },
    {
     "data": {
      "image/png": "[encoded data removed]",
      "text/plain": [
       "<Figure size 432x288 with 1 Axes>"
      ]
     },
     "metadata": {
      "needs_background": "light"
     },
     "output_type": "display_data"
    },
    {
     "name": "stdout",
     "output_type": "stream",
     "text": [
      "0 0\n"
     ]
    },
    {
     "data": {
      "image/png": "[encoded data removed]",
      "text/plain": [
       "<Figure size 432x288 with 1 Axes>"
      ]
     },
     "metadata": {
      "needs_background": "light"
     },
     "output_type": "display_data"
    },
    {
     "name": "stdout",
     "output_type": "stream",
     "text": [
      "0 0\n"
     ]
    },
    {
     "data": {
      "image/png": "[encoded data removed]",
      "text/plain": [
       "<Figure size 432x288 with 1 Axes>"
      ]
     },
     "metadata": {
      "needs_background": "light"
     },
     "output_type": "display_data"
    },
    {
     "name": "stdout",
     "output_type": "stream",
     "text": [
      "0 0\n"
     ]
    },
    {
     "data": {
      "image/png": "[encoded data removed]",
      "text/plain": [
       "<Figure size 432x288 with 1 Axes>"
      ]
     },
     "metadata": {
      "needs_background": "light"
     },
     "output_type": "display_data"
    },
    {
     "name": "stdout",
     "output_type": "stream",
     "text": [
      "0 0\n"
     ]
    },
    {
     "data": {
      "image/png": "[encoded data removed]",
      "text/plain": [
       "<Figure size 432x288 with 1 Axes>"
      ]
     },
     "metadata": {
      "needs_background": "light"
     },
     "output_type": "display_data"
    },
    {
     "name": "stdout",
     "output_type": "stream",
     "text": [
      "0 0\n"
     ]
    },
    {
     "data": {
      "image/png": "[encoded data removed]",
      "text/plain": [
       "<Figure size 432x288 with 1 Axes>"
      ]
     },
     "metadata": {
      "needs_background": "light"
     },
     "output_type": "display_data"
    },
    {
     "name": "stdout",
     "output_type": "stream",
     "text": [
      "5247 9\n"
     ]
    },
    {
     "data": {
      "image/png": "[encoded data removed]",
      "text/plain": [
       "<Figure size 432x288 with 1 Axes>"
      ]
     },
     "metadata": {
      "needs_background": "light"
     },
     "output_type": "display_data"
    },
    {
     "name": "stdout",
     "output_type": "stream",
     "text": [
      "6081 8\n"
     ]
    },
    {
     "data": {
      "image/png": "[encoded data removed]",
      "text/plain": [
       "<Figure size 432x288 with 1 Axes>"
      ]
     },
     "metadata": {
      "needs_background": "light"
     },
     "output_type": "display_data"
    },
    {
     "name": "stdout",
     "output_type": "stream",
     "text": [
      "5152 8\n"
     ]
    },
    {
     "data": {
      "image/png": "[encoded data removed]",
      "text/plain": [
       "<Figure size 432x288 with 1 Axes>"
      ]
     },
     "metadata": {
      "needs_background": "light"
     },
     "output_type": "display_data"
    },
    {
     "name": "stdout",
     "output_type": "stream",
     "text": [
      "6728 10\n"
     ]
    },
    {
     "data": {
      "image/png": "[encoded data removed]",
      "text/plain": [
       "<Figure size 432x288 with 1 Axes>"
      ]
     },
     "metadata": {
      "needs_background": "light"
     },
     "output_type": "display_data"
    },
    {
     "name": "stdout",
     "output_type": "stream",
     "text": [
      "6524 9\n"
     ]
    },
    {
     "data": {
      "image/png": "[encoded data removed]",
      "text/plain": [
       "<Figure size 432x288 with 1 Axes>"
      ]
     },
     "metadata": {
      "needs_background": "light"
     },
     "output_type": "display_data"
    },
    {
     "name": "stdout",
     "output_type": "stream",
     "text": [
      "5911 9\n"
     ]
    },
    {
     "data": {
      "image/png": "[encoded data removed]",
      "text/plain": [
       "<Figure size 432x288 with 1 Axes>"
      ]
     },
     "metadata": {
      "needs_background": "light"
     },
     "output_type": "display_data"
    }
   ],
   "source": [
    "#from tempfile import TemporaryFile\n",
    "#outfile=TemporaryFile()\n",
    "#np.save(outfile,OT_map)\n",
    "#import cartopy\n",
    "#import cartopy.crs as ccrs\n",
    "#print(OTA_night.shape,np.mean(OTA_night),np.std(OTA_night))\n",
    "#print(OTA_day.shape,np.mean(OTA_day),np.std(OTA_day))\n",
    "#np.savetxt('OT_map_day_2criteria.txt',np.reshape(OT_map[:,:,0],(360,180)),delimiter=',',fmt='%5i')\n",
    "#np.savetxt('OT_map_night_2criteria.txt',np.reshape(OT_map[:,:,1],(360,180)),delimiter=',',fmt='%5i')\n",
    "#np.savetxt('OTA_pdf_2criteria.txt',OTA_pdf,delimiter=',')\n",
    "\n",
    "#n, bins, patches=plt.hist(x=OTA_day,bins=50,color='g')\n",
    "\n",
    "#plt.hist(x=OTA_night,bins=50,color='r')\n",
    "#plt.show()\n",
    "#print(np.max(OT_map))\n",
    "\n",
    "for i in range(12):\n",
    "    \n",
    "    print(np.sum(OT_map[:,:,i,0]),np.max(OT_map[:,:,i,0]))\n",
    "    p=plt.imshow(np.reshape(OT_map[:,:,2,1],(360,180)),vmin=0,vmax=5,cmap=plt.get_cmap('OrRd'),aspect='auto')\n",
    "    plt.show()"
   ]
  },
  {
   "cell_type": "code",
   "execution_count": null,
   "metadata": {},
   "outputs": [],
   "source": []
  }
 ],
 "metadata": {
  "kernelspec": {
   "display_name": "Python 3 (ipykernel)",
   "language": "python",
   "name": "python3"
  },
  "language_info": {
   "codemirror_mode": {
    "name": "ipython",
    "version": 3
   },
   "file_extension": ".py",
   "mimetype": "text/x-python",
   "name": "python",
   "nbconvert_exporter": "python",
   "pygments_lexer": "ipython3",
   "version": "3.9.12"
  }
 },
 "nbformat": 4,
 "nbformat_minor": 4
}
