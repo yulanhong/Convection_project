{
 "cells": [
  {
   "cell_type": "code",
   "execution_count": 11,
   "id": "e4992874",
   "metadata": {},
   "outputs": [
    {
     "name": "stdout",
     "output_type": "stream",
     "text": [
      "start 2022-08-05 11:10:42.848041\n",
      "2002\n",
      "2010\n",
      "start 2022-08-05 11:27:55.873935\n"
     ]
    }
   ],
   "source": [
    "def read_text(fname):\n",
    "    fo=open(fname,'r') #create file object\n",
    "    #headstr=fo.readline()\n",
    "    data=fo.readlines()\n",
    "    #print (data)\n",
    "    fo.close()  # close object\n",
    "    return data\n",
    "\n",
    "# main\n",
    "import os \n",
    "#from mpl_toolkits.basemap import Basemap\n",
    "from datetime import datetime, date, timedelta\n",
    "import numpy as np\n",
    "import pandas as pd\n",
    "import glob\n",
    "\n",
    "\n",
    "#region_lon=[-118,-108] # Rocky mountains \n",
    "#region_lat=[33,38]\n",
    "\n",
    "#region_lon=[84,88] # Himalayas\n",
    "#region_lat=[27,29]\n",
    "\n",
    "region_lon = [-120,-110] # Southern_ocean_highlat\n",
    "region_lat = [-55,-45]\n",
    "\n",
    "#region_lon = [70,80] # Russian_higlat\n",
    "#region_lat = [50,60]\n",
    "\n",
    "#region_lon= [84,91]\n",
    "#region_lat= [32,36] # Tibet_plateau\n",
    "#region_lon=[110,115]\n",
    "#region_lat=[0,2] #Tropical_\n",
    "#write_name='Tropical_OTs.txt'\n",
    "\n",
    "region_lat=[31,37]\n",
    "region_lon=[-102,-82]\n",
    "write_name='US_central_east_winter_OT.txt'\n",
    "\n",
    "wfname=open(write_name,'w')\n",
    "print('start',datetime.now())\n",
    "\n",
    "years=['2002','2010']#,'2002','2003','2004','2005','2006','2007','2008','2009','2010']#,'2011','2012','2013',\\\n",
    " #     '2014','2015','2016','2017','2018','2019','2020']\n",
    "\n",
    "for year in years:\n",
    "    print(year)\n",
    "    fnames=glob.glob('/data/keeling/a/yulanh/c/OT_output/Terra/'+year+'/*.txt')\n",
    "    \n",
    "    for fname in fnames:\n",
    "        \n",
    "        Julday=int(fname[-12:-9])\n",
    "        \n",
    "        if ((Julday < 60) | (Julday > 335)):\n",
    "        \n",
    "            data=read_text(fname)\n",
    "            splitcol=data[0].split(' ')\n",
    "            Ncol=len(splitcol)-splitcol.count('')\n",
    "            Nrow=len(data)\n",
    "\n",
    "\n",
    "            dataT=np.zeros((Nrow,Ncol),'f')\n",
    "            for i in range(Nrow):\n",
    "                splitcol=data[i].split(' ')\n",
    "                k=0\n",
    "                for j in range(len(splitcol)):\n",
    "                    if splitcol[j] != '' and splitcol[j] != '\\n' :\n",
    "                        dataT[i,k]=float(splitcol[j])\n",
    "                        k=k+1\n",
    "                # record data\n",
    "                lon=dataT[i,2]\n",
    "                lat=dataT[i,3]\n",
    "\n",
    "                SLT=float(fname[-8:-6])+dataT[i,2]/15.0 #solar local time\n",
    "                dnflag=0\n",
    "                if (SLT < 0) :\n",
    "                    SLT=SLT+24\n",
    "\n",
    "                if (SLT > 24) :\n",
    "                    SLT=SLT-24\n",
    "\n",
    "                if ((SLT >= 6) & (SLT < 18)):\n",
    "                    dnflag=0\n",
    "                else:\n",
    "                    dnflag=1\n",
    "\n",
    "                if ((lon > region_lon[0]) & (lon < region_lon[1]) & (lat > region_lat[0]) & (lat < region_lat[1]) & (dnflag == 0)):\n",
    "                        wfname.write(fname+'   '+data[i])\n",
    "\n",
    "wfname.close()\n",
    "print('start',datetime.now())"
   ]
  },
  {
   "cell_type": "code",
   "execution_count": 9,
   "id": "cfe88803",
   "metadata": {},
   "outputs": [
    {
     "name": "stdout",
     "output_type": "stream",
     "text": [
      "161 /data/keeling/a/yulanh/c/OT_output/Terra/2001/MODIS_OTinfo_2001161.2055.txt\n"
     ]
    }
   ],
   "source": [
    "print(fname[-12:-9],fname)"
   ]
  }
 ],
 "metadata": {
  "kernelspec": {
   "display_name": "Python 3 (ipykernel)",
   "language": "python",
   "name": "python3"
  },
  "language_info": {
   "codemirror_mode": {
    "name": "ipython",
    "version": 3
   },
   "file_extension": ".py",
   "mimetype": "text/x-python",
   "name": "python",
   "nbconvert_exporter": "python",
   "pygments_lexer": "ipython3",
   "version": "3.8.12"
  }
 },
 "nbformat": 4,
 "nbformat_minor": 5
}
