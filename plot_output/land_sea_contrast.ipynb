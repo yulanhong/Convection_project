{
 "cells": [
  {
   "cell_type": "code",
   "execution_count": 11,
   "id": "ea638dc6",
   "metadata": {},
   "outputs": [
    {
     "name": "stderr",
     "output_type": "stream",
     "text": [
      "/tmp/ipykernel_8170/2947163407.py:36: ParserWarning: Falling back to the 'python' engine because the 'c' engine does not support regex separators (separators > 1 char and different from '\\s+' are interpreted as regex); you can avoid this warning by specifying engine='python'.\n",
      "  df=pd.read_csv(cfname,sep=', ',index_col=False)\n",
      "/tmp/ipykernel_8170/2947163407.py:36: ParserWarning: Falling back to the 'python' engine because the 'c' engine does not support regex separators (separators > 1 char and different from '\\s+' are interpreted as regex); you can avoid this warning by specifying engine='python'.\n",
      "  df=pd.read_csv(cfname,sep=', ',index_col=False)\n",
      "/tmp/ipykernel_8170/2947163407.py:36: ParserWarning: Falling back to the 'python' engine because the 'c' engine does not support regex separators (separators > 1 char and different from '\\s+' are interpreted as regex); you can avoid this warning by specifying engine='python'.\n",
      "  df=pd.read_csv(cfname,sep=', ',index_col=False)\n",
      "/tmp/ipykernel_8170/2947163407.py:36: ParserWarning: Falling back to the 'python' engine because the 'c' engine does not support regex separators (separators > 1 char and different from '\\s+' are interpreted as regex); you can avoid this warning by specifying engine='python'.\n",
      "  df=pd.read_csv(cfname,sep=', ',index_col=False)\n",
      "/tmp/ipykernel_8170/2947163407.py:36: ParserWarning: Falling back to the 'python' engine because the 'c' engine does not support regex separators (separators > 1 char and different from '\\s+' are interpreted as regex); you can avoid this warning by specifying engine='python'.\n",
      "  df=pd.read_csv(cfname,sep=', ',index_col=False)\n",
      "/tmp/ipykernel_8170/2947163407.py:36: ParserWarning: Falling back to the 'python' engine because the 'c' engine does not support regex separators (separators > 1 char and different from '\\s+' are interpreted as regex); you can avoid this warning by specifying engine='python'.\n",
      "  df=pd.read_csv(cfname,sep=', ',index_col=False)\n",
      "/tmp/ipykernel_8170/2947163407.py:36: ParserWarning: Falling back to the 'python' engine because the 'c' engine does not support regex separators (separators > 1 char and different from '\\s+' are interpreted as regex); you can avoid this warning by specifying engine='python'.\n",
      "  df=pd.read_csv(cfname,sep=', ',index_col=False)\n",
      "/tmp/ipykernel_8170/2947163407.py:36: ParserWarning: Falling back to the 'python' engine because the 'c' engine does not support regex separators (separators > 1 char and different from '\\s+' are interpreted as regex); you can avoid this warning by specifying engine='python'.\n",
      "  df=pd.read_csv(cfname,sep=', ',index_col=False)\n",
      "/tmp/ipykernel_8170/2947163407.py:36: ParserWarning: Falling back to the 'python' engine because the 'c' engine does not support regex separators (separators > 1 char and different from '\\s+' are interpreted as regex); you can avoid this warning by specifying engine='python'.\n",
      "  df=pd.read_csv(cfname,sep=', ',index_col=False)\n",
      "/tmp/ipykernel_8170/2947163407.py:36: ParserWarning: Falling back to the 'python' engine because the 'c' engine does not support regex separators (separators > 1 char and different from '\\s+' are interpreted as regex); you can avoid this warning by specifying engine='python'.\n",
      "  df=pd.read_csv(cfname,sep=', ',index_col=False)\n",
      "/tmp/ipykernel_8170/2947163407.py:36: ParserWarning: Falling back to the 'python' engine because the 'c' engine does not support regex separators (separators > 1 char and different from '\\s+' are interpreted as regex); you can avoid this warning by specifying engine='python'.\n",
      "  df=pd.read_csv(cfname,sep=', ',index_col=False)\n",
      "/tmp/ipykernel_8170/2947163407.py:36: ParserWarning: Falling back to the 'python' engine because the 'c' engine does not support regex separators (separators > 1 char and different from '\\s+' are interpreted as regex); you can avoid this warning by specifying engine='python'.\n",
      "  df=pd.read_csv(cfname,sep=', ',index_col=False)\n",
      "/tmp/ipykernel_8170/2947163407.py:36: ParserWarning: Falling back to the 'python' engine because the 'c' engine does not support regex separators (separators > 1 char and different from '\\s+' are interpreted as regex); you can avoid this warning by specifying engine='python'.\n",
      "  df=pd.read_csv(cfname,sep=', ',index_col=False)\n",
      "/tmp/ipykernel_8170/2947163407.py:36: ParserWarning: Falling back to the 'python' engine because the 'c' engine does not support regex separators (separators > 1 char and different from '\\s+' are interpreted as regex); you can avoid this warning by specifying engine='python'.\n",
      "  df=pd.read_csv(cfname,sep=', ',index_col=False)\n",
      "/tmp/ipykernel_8170/2947163407.py:36: ParserWarning: Falling back to the 'python' engine because the 'c' engine does not support regex separators (separators > 1 char and different from '\\s+' are interpreted as regex); you can avoid this warning by specifying engine='python'.\n",
      "  df=pd.read_csv(cfname,sep=', ',index_col=False)\n",
      "/tmp/ipykernel_8170/2947163407.py:36: ParserWarning: Falling back to the 'python' engine because the 'c' engine does not support regex separators (separators > 1 char and different from '\\s+' are interpreted as regex); you can avoid this warning by specifying engine='python'.\n",
      "  df=pd.read_csv(cfname,sep=', ',index_col=False)\n",
      "/tmp/ipykernel_8170/2947163407.py:36: ParserWarning: Falling back to the 'python' engine because the 'c' engine does not support regex separators (separators > 1 char and different from '\\s+' are interpreted as regex); you can avoid this warning by specifying engine='python'.\n",
      "  df=pd.read_csv(cfname,sep=', ',index_col=False)\n",
      "/tmp/ipykernel_8170/2947163407.py:36: ParserWarning: Falling back to the 'python' engine because the 'c' engine does not support regex separators (separators > 1 char and different from '\\s+' are interpreted as regex); you can avoid this warning by specifying engine='python'.\n",
      "  df=pd.read_csv(cfname,sep=', ',index_col=False)\n",
      "/tmp/ipykernel_8170/2947163407.py:36: ParserWarning: Falling back to the 'python' engine because the 'c' engine does not support regex separators (separators > 1 char and different from '\\s+' are interpreted as regex); you can avoid this warning by specifying engine='python'.\n",
      "  df=pd.read_csv(cfname,sep=', ',index_col=False)\n",
      "/tmp/ipykernel_8170/2947163407.py:36: ParserWarning: Falling back to the 'python' engine because the 'c' engine does not support regex separators (separators > 1 char and different from '\\s+' are interpreted as regex); you can avoid this warning by specifying engine='python'.\n",
      "  df=pd.read_csv(cfname,sep=', ',index_col=False)\n",
      "/tmp/ipykernel_8170/2947163407.py:36: ParserWarning: Falling back to the 'python' engine because the 'c' engine does not support regex separators (separators > 1 char and different from '\\s+' are interpreted as regex); you can avoid this warning by specifying engine='python'.\n",
      "  df=pd.read_csv(cfname,sep=', ',index_col=False)\n",
      "/tmp/ipykernel_8170/2947163407.py:36: ParserWarning: Falling back to the 'python' engine because the 'c' engine does not support regex separators (separators > 1 char and different from '\\s+' are interpreted as regex); you can avoid this warning by specifying engine='python'.\n",
      "  df=pd.read_csv(cfname,sep=', ',index_col=False)\n"
     ]
    },
    {
     "name": "stdout",
     "output_type": "stream",
     "text": [
      "/data/keeling/a/yulanh/mydata/OT_modis/plot_output/Aqua_OT_property_record_2005.txt\n"
     ]
    },
    {
     "name": "stderr",
     "output_type": "stream",
     "text": [
      "/tmp/ipykernel_8170/2947163407.py:93: ParserWarning: Falling back to the 'python' engine because the 'c' engine does not support regex separators (separators > 1 char and different from '\\s+' are interpreted as regex); you can avoid this warning by specifying engine='python'.\n",
      "  df=pd.read_csv(cfname,sep=', ',index_col=False)\n"
     ]
    },
    {
     "name": "stdout",
     "output_type": "stream",
     "text": [
      "/data/keeling/a/yulanh/mydata/OT_modis/plot_output/Aqua_OT_property_record_2013.txt\n"
     ]
    },
    {
     "name": "stderr",
     "output_type": "stream",
     "text": [
      "/tmp/ipykernel_8170/2947163407.py:93: ParserWarning: Falling back to the 'python' engine because the 'c' engine does not support regex separators (separators > 1 char and different from '\\s+' are interpreted as regex); you can avoid this warning by specifying engine='python'.\n",
      "  df=pd.read_csv(cfname,sep=', ',index_col=False)\n"
     ]
    },
    {
     "name": "stdout",
     "output_type": "stream",
     "text": [
      "/data/keeling/a/yulanh/mydata/OT_modis/plot_output/Aqua_OT_property_record_2014.txt\n"
     ]
    },
    {
     "name": "stderr",
     "output_type": "stream",
     "text": [
      "/tmp/ipykernel_8170/2947163407.py:93: ParserWarning: Falling back to the 'python' engine because the 'c' engine does not support regex separators (separators > 1 char and different from '\\s+' are interpreted as regex); you can avoid this warning by specifying engine='python'.\n",
      "  df=pd.read_csv(cfname,sep=', ',index_col=False)\n"
     ]
    },
    {
     "name": "stdout",
     "output_type": "stream",
     "text": [
      "/data/keeling/a/yulanh/mydata/OT_modis/plot_output/Aqua_OT_property_record_2002.txt\n"
     ]
    },
    {
     "name": "stderr",
     "output_type": "stream",
     "text": [
      "/tmp/ipykernel_8170/2947163407.py:93: ParserWarning: Falling back to the 'python' engine because the 'c' engine does not support regex separators (separators > 1 char and different from '\\s+' are interpreted as regex); you can avoid this warning by specifying engine='python'.\n",
      "  df=pd.read_csv(cfname,sep=', ',index_col=False)\n"
     ]
    },
    {
     "name": "stdout",
     "output_type": "stream",
     "text": [
      "/data/keeling/a/yulanh/mydata/OT_modis/plot_output/Aqua_OT_property_record_2010.txt\n"
     ]
    },
    {
     "name": "stderr",
     "output_type": "stream",
     "text": [
      "/tmp/ipykernel_8170/2947163407.py:93: ParserWarning: Falling back to the 'python' engine because the 'c' engine does not support regex separators (separators > 1 char and different from '\\s+' are interpreted as regex); you can avoid this warning by specifying engine='python'.\n",
      "  df=pd.read_csv(cfname,sep=', ',index_col=False)\n"
     ]
    },
    {
     "name": "stdout",
     "output_type": "stream",
     "text": [
      "/data/keeling/a/yulanh/mydata/OT_modis/plot_output/Aqua_OT_property_record_2019.txt\n"
     ]
    },
    {
     "name": "stderr",
     "output_type": "stream",
     "text": [
      "/tmp/ipykernel_8170/2947163407.py:93: ParserWarning: Falling back to the 'python' engine because the 'c' engine does not support regex separators (separators > 1 char and different from '\\s+' are interpreted as regex); you can avoid this warning by specifying engine='python'.\n",
      "  df=pd.read_csv(cfname,sep=', ',index_col=False)\n"
     ]
    },
    {
     "name": "stdout",
     "output_type": "stream",
     "text": [
      "/data/keeling/a/yulanh/mydata/OT_modis/plot_output/Aqua_OT_property_record_2009.txt\n"
     ]
    },
    {
     "name": "stderr",
     "output_type": "stream",
     "text": [
      "/tmp/ipykernel_8170/2947163407.py:93: ParserWarning: Falling back to the 'python' engine because the 'c' engine does not support regex separators (separators > 1 char and different from '\\s+' are interpreted as regex); you can avoid this warning by specifying engine='python'.\n",
      "  df=pd.read_csv(cfname,sep=', ',index_col=False)\n"
     ]
    },
    {
     "name": "stdout",
     "output_type": "stream",
     "text": [
      "/data/keeling/a/yulanh/mydata/OT_modis/plot_output/Aqua_OT_property_record_2018.txt\n"
     ]
    },
    {
     "name": "stderr",
     "output_type": "stream",
     "text": [
      "/tmp/ipykernel_8170/2947163407.py:93: ParserWarning: Falling back to the 'python' engine because the 'c' engine does not support regex separators (separators > 1 char and different from '\\s+' are interpreted as regex); you can avoid this warning by specifying engine='python'.\n",
      "  df=pd.read_csv(cfname,sep=', ',index_col=False)\n"
     ]
    },
    {
     "name": "stdout",
     "output_type": "stream",
     "text": [
      "/data/keeling/a/yulanh/mydata/OT_modis/plot_output/Aqua_OT_property_record_2003.txt\n"
     ]
    },
    {
     "name": "stderr",
     "output_type": "stream",
     "text": [
      "/tmp/ipykernel_8170/2947163407.py:93: ParserWarning: Falling back to the 'python' engine because the 'c' engine does not support regex separators (separators > 1 char and different from '\\s+' are interpreted as regex); you can avoid this warning by specifying engine='python'.\n",
      "  df=pd.read_csv(cfname,sep=', ',index_col=False)\n"
     ]
    },
    {
     "name": "stdout",
     "output_type": "stream",
     "text": [
      "/data/keeling/a/yulanh/mydata/OT_modis/plot_output/Aqua_OT_property_record_2011.txt\n"
     ]
    },
    {
     "name": "stderr",
     "output_type": "stream",
     "text": [
      "/tmp/ipykernel_8170/2947163407.py:93: ParserWarning: Falling back to the 'python' engine because the 'c' engine does not support regex separators (separators > 1 char and different from '\\s+' are interpreted as regex); you can avoid this warning by specifying engine='python'.\n",
      "  df=pd.read_csv(cfname,sep=', ',index_col=False)\n"
     ]
    },
    {
     "name": "stdout",
     "output_type": "stream",
     "text": [
      "/data/keeling/a/yulanh/mydata/OT_modis/plot_output/Aqua_OT_property_record_2006.txt\n"
     ]
    },
    {
     "name": "stderr",
     "output_type": "stream",
     "text": [
      "/tmp/ipykernel_8170/2947163407.py:93: ParserWarning: Falling back to the 'python' engine because the 'c' engine does not support regex separators (separators > 1 char and different from '\\s+' are interpreted as regex); you can avoid this warning by specifying engine='python'.\n",
      "  df=pd.read_csv(cfname,sep=', ',index_col=False)\n"
     ]
    },
    {
     "name": "stdout",
     "output_type": "stream",
     "text": [
      "/data/keeling/a/yulanh/mydata/OT_modis/plot_output/Aqua_OT_property_record_2015.txt\n"
     ]
    },
    {
     "name": "stderr",
     "output_type": "stream",
     "text": [
      "/tmp/ipykernel_8170/2947163407.py:93: ParserWarning: Falling back to the 'python' engine because the 'c' engine does not support regex separators (separators > 1 char and different from '\\s+' are interpreted as regex); you can avoid this warning by specifying engine='python'.\n",
      "  df=pd.read_csv(cfname,sep=', ',index_col=False)\n"
     ]
    },
    {
     "name": "stdout",
     "output_type": "stream",
     "text": [
      "/data/keeling/a/yulanh/mydata/OT_modis/plot_output/Aqua_OT_property_record_2007.txt\n"
     ]
    },
    {
     "name": "stderr",
     "output_type": "stream",
     "text": [
      "/tmp/ipykernel_8170/2947163407.py:93: ParserWarning: Falling back to the 'python' engine because the 'c' engine does not support regex separators (separators > 1 char and different from '\\s+' are interpreted as regex); you can avoid this warning by specifying engine='python'.\n",
      "  df=pd.read_csv(cfname,sep=', ',index_col=False)\n"
     ]
    },
    {
     "name": "stdout",
     "output_type": "stream",
     "text": [
      "/data/keeling/a/yulanh/mydata/OT_modis/plot_output/Aqua_OT_property_record_2016.txt\n"
     ]
    },
    {
     "name": "stderr",
     "output_type": "stream",
     "text": [
      "/tmp/ipykernel_8170/2947163407.py:93: ParserWarning: Falling back to the 'python' engine because the 'c' engine does not support regex separators (separators > 1 char and different from '\\s+' are interpreted as regex); you can avoid this warning by specifying engine='python'.\n",
      "  df=pd.read_csv(cfname,sep=', ',index_col=False)\n"
     ]
    },
    {
     "name": "stdout",
     "output_type": "stream",
     "text": [
      "/data/keeling/a/yulanh/mydata/OT_modis/plot_output/Aqua_OT_property_record_2020.txt\n"
     ]
    },
    {
     "name": "stderr",
     "output_type": "stream",
     "text": [
      "/tmp/ipykernel_8170/2947163407.py:93: ParserWarning: Falling back to the 'python' engine because the 'c' engine does not support regex separators (separators > 1 char and different from '\\s+' are interpreted as regex); you can avoid this warning by specifying engine='python'.\n",
      "  df=pd.read_csv(cfname,sep=', ',index_col=False)\n"
     ]
    },
    {
     "name": "stdout",
     "output_type": "stream",
     "text": [
      "/data/keeling/a/yulanh/mydata/OT_modis/plot_output/Aqua_OT_property_record_2004.txt\n"
     ]
    },
    {
     "name": "stderr",
     "output_type": "stream",
     "text": [
      "/tmp/ipykernel_8170/2947163407.py:93: ParserWarning: Falling back to the 'python' engine because the 'c' engine does not support regex separators (separators > 1 char and different from '\\s+' are interpreted as regex); you can avoid this warning by specifying engine='python'.\n",
      "  df=pd.read_csv(cfname,sep=', ',index_col=False)\n"
     ]
    },
    {
     "name": "stdout",
     "output_type": "stream",
     "text": [
      "/data/keeling/a/yulanh/mydata/OT_modis/plot_output/Aqua_OT_property_record_2012.txt\n"
     ]
    },
    {
     "name": "stderr",
     "output_type": "stream",
     "text": [
      "/tmp/ipykernel_8170/2947163407.py:93: ParserWarning: Falling back to the 'python' engine because the 'c' engine does not support regex separators (separators > 1 char and different from '\\s+' are interpreted as regex); you can avoid this warning by specifying engine='python'.\n",
      "  df=pd.read_csv(cfname,sep=', ',index_col=False)\n"
     ]
    },
    {
     "name": "stdout",
     "output_type": "stream",
     "text": [
      "/data/keeling/a/yulanh/mydata/OT_modis/plot_output/Aqua_OT_property_record_2008.txt\n"
     ]
    },
    {
     "name": "stderr",
     "output_type": "stream",
     "text": [
      "/tmp/ipykernel_8170/2947163407.py:93: ParserWarning: Falling back to the 'python' engine because the 'c' engine does not support regex separators (separators > 1 char and different from '\\s+' are interpreted as regex); you can avoid this warning by specifying engine='python'.\n",
      "  df=pd.read_csv(cfname,sep=', ',index_col=False)\n"
     ]
    },
    {
     "name": "stdout",
     "output_type": "stream",
     "text": [
      "/data/keeling/a/yulanh/mydata/OT_modis/plot_output/Aqua_OT_property_record_2017.txt\n"
     ]
    },
    {
     "name": "stderr",
     "output_type": "stream",
     "text": [
      "/tmp/ipykernel_8170/2947163407.py:93: ParserWarning: Falling back to the 'python' engine because the 'c' engine does not support regex separators (separators > 1 char and different from '\\s+' are interpreted as regex); you can avoid this warning by specifying engine='python'.\n",
      "  df=pd.read_csv(cfname,sep=', ',index_col=False)\n"
     ]
    },
    {
     "name": "stdout",
     "output_type": "stream",
     "text": [
      "/data/keeling/a/yulanh/mydata/OT_modis/plot_output/Aqua_OT_property_record_2021.txt\n"
     ]
    },
    {
     "name": "stderr",
     "output_type": "stream",
     "text": [
      "/tmp/ipykernel_8170/2947163407.py:93: ParserWarning: Falling back to the 'python' engine because the 'c' engine does not support regex separators (separators > 1 char and different from '\\s+' are interpreted as regex); you can avoid this warning by specifying engine='python'.\n",
      "  df=pd.read_csv(cfname,sep=', ',index_col=False)\n"
     ]
    }
   ],
   "source": [
    "import os \n",
    "import matplotlib as mpl\n",
    "import matplotlib.pyplot as plt\n",
    "from datetime import datetime, date, timedelta\n",
    "import numpy as np\n",
    "import pandas as pd\n",
    "import glob\n",
    "from pyhdf.SD import SD, SDC\n",
    "import h5py\n",
    "import statsmodels.api as sm\n",
    "from scipy import stats\n",
    "from math import floor\n",
    "from matplotlib.ticker import (MultipleLocator, AutoMinorLocator)\n",
    "#check for land-sea mask\n",
    "from global_land_mask import globe\n",
    "\n",
    "# read Terra data\n",
    "cfnames=glob.glob('/data/keeling/a/yulanh/mydata/OT_modis/plot_output/OT_property_record_*')\n",
    "\n",
    "Terra_allcOT_lat=np.empty((0),'f')\n",
    "Terra_allcOT_lon=np.empty((0),'f')\n",
    "Terra_allota = np.empty((0),'f')\n",
    "Terra_allcmin_bt11=np.empty((0),'f')\n",
    "Terra_allcave_bt11=np.empty((0),'f')\n",
    "Terra_allcave_bt67=np.empty((0),'f')\n",
    "Terra_allcave_cibt11=np.empty((0),'f')\n",
    "Terra_allctrop_T=np.empty((0),'f')\n",
    "Terra_allchetero=np.empty((0),'f')\n",
    "Terra_alldnflag =np.empty((0),'i')\n",
    "Terra_allcOT_ctlat=np.empty((0),'f')\n",
    "Terra_allcOT_ctlon=np.empty((0),'f')\n",
    "Terra_allcmin_ctbt11=np.empty((0),'f')\n",
    "\n",
    "#cfnames=cfnames[0:1]\n",
    "for cfname in cfnames:\n",
    "    df=pd.read_csv(cfname,sep=', ',index_col=False)\n",
    "    cOT_lat=df['lat'].astype(float)\n",
    "    cOT_lon=df['lon'].astype(float)\n",
    "    cota = df['ota'].astype(float)\n",
    "    cmin_bt11=df['min_BT11'].astype(float)\n",
    "    cave_bt11=df['ave_BT11'].astype(float)\n",
    "    cave_bt67=df['ave_BT67'].astype(float)\n",
    "    cave_cibt11=df['ave_ciBT11'].astype(float)\n",
    "    ctrop_T=df['tropoauseT'].astype(float)\n",
    "    chetero=df['heterogeneity'].astype(float)\n",
    "    dnflag =df['dnflag']\n",
    "    ctlat=df['ct_lat'].astype(float)\n",
    "    ctlon=df['ct_lon'].astype(float)\n",
    "    ctbt11=df['ct_min_BT11'].astype(float)\n",
    "    \n",
    "    Terra_allcOT_lat=np.append(Terra_allcOT_lat,cOT_lat)\n",
    "    Terra_allcOT_lon=np.append(Terra_allcOT_lon,cOT_lon)\n",
    "    Terra_allcOT_ctlat=np.append(Terra_allcOT_ctlat,ctlat)\n",
    "    Terra_allcOT_ctlon=np.append(Terra_allcOT_ctlon,ctlon)\n",
    "    Terra_allota = np.append(Terra_allota,cota)\n",
    "    Terra_allcmin_bt11=np.append(Terra_allcmin_bt11,cmin_bt11)\n",
    "    Terra_allcmin_ctbt11=np.append(Terra_allcmin_ctbt11,ctbt11)\n",
    "    Terra_allcave_bt11=np.append(Terra_allcave_bt11,cave_bt11)\n",
    "    Terra_allcave_bt67=np.append(Terra_allcave_bt67,cave_bt67)\n",
    "    Terra_allcave_cibt11=np.append(Terra_allcave_cibt11,cave_cibt11)\n",
    "    Terra_allctrop_T=np.append(Terra_allctrop_T,ctrop_T)\n",
    "    Terra_allchetero=np.append(Terra_allchetero,chetero)\n",
    "    Terra_alldnflag =np.append(Terra_alldnflag,dnflag)\n",
    "\n",
    "\n",
    "    \n",
    "ind=np.where(Terra_allcmin_bt11 < 150)[0]\n",
    "Terra_allcmin_bt11[ind]=np.nan\n",
    "ind=np.where((Terra_allcmin_ctbt11 < 150) & (Terra_allcOT_ctlat < -90))[0]\n",
    "Terra_allcmin_ctbt11[ind]=np.nan\n",
    "Terra_allcOT_ctlat[ind] = np.nan\n",
    "Terra_allcOT_ctlon[ind] = np.nan\n",
    "# read Aqua data\n",
    "cfnames=glob.glob('/data/keeling/a/yulanh/mydata/OT_modis/plot_output/Aqua_OT_property_record_*')\n",
    "\n",
    "Aqua_allcOT_lat=np.empty((0),'f')\n",
    "Aqua_allcOT_lon=np.empty((0),'f')\n",
    "Aqua_allota = np.empty((0),'f')\n",
    "Aqua_allcmin_bt11=np.empty((0),'f')\n",
    "Aqua_allcave_bt11=np.empty((0),'f')\n",
    "Aqua_allcave_bt67=np.empty((0),'f')\n",
    "Aqua_allcave_cibt11=np.empty((0),'f')\n",
    "Aqua_allctrop_T=np.empty((0),'f')\n",
    "Aqua_allchetero=np.empty((0),'f')\n",
    "Aqua_alldnflag =np.empty((0),'i')\n",
    "Aqua_allcOT_ctlat=np.empty((0),'f')\n",
    "Aqua_allcOT_ctlon=np.empty((0),'f')\n",
    "Aqua_allcmin_ctbt11=np.empty((0),'f')\n",
    "\n",
    "#cfnames=cfnames[0:1]\n",
    "for cfname in cfnames:\n",
    "    print(cfname)\n",
    "    df=pd.read_csv(cfname,sep=', ',index_col=False)\n",
    "    cOT_lat=df['lat'].astype(float)\n",
    "    cOT_lon=df['lon'].astype(float)\n",
    "    cota = df['ota'].astype(float)\n",
    "    cmin_bt11=df['min_BT11'].astype(float)\n",
    "    cave_bt11=df['ave_BT11'].astype(float)\n",
    "    cave_bt67=df['ave_BT67'].astype(float)\n",
    "    cave_cibt11=df['ave_ciBT11'].astype(float)\n",
    "    ctrop_T=df['tropoauseT'].astype(float)\n",
    "    chetero=df['heterogeneity'].astype(float)\n",
    "    dnflag =df['dnflag']\n",
    "    ctlat=df['ct_lat'].astype(float)\n",
    "    ctlon=df['ct_lon'].astype(float)\n",
    "    ctbt11=df['ct_min_BT11'].astype(float)\n",
    "    \n",
    "    Aqua_allcOT_lat=np.append(Aqua_allcOT_lat,cOT_lat)\n",
    "    Aqua_allcOT_lon=np.append(Aqua_allcOT_lon,cOT_lon)\n",
    "    Aqua_allcOT_ctlat=np.append(Aqua_allcOT_ctlat,ctlat)\n",
    "    Aqua_allcOT_ctlon=np.append(Aqua_allcOT_ctlon,ctlon)\n",
    "    Aqua_allota = np.append(Aqua_allota,cota)\n",
    "    Aqua_allcmin_bt11=np.append(Aqua_allcmin_bt11,cmin_bt11)\n",
    "    Aqua_allcmin_ctbt11=np.append(Aqua_allcmin_ctbt11,ctbt11)\n",
    "    Aqua_allcave_bt11=np.append(Aqua_allcave_bt11,cave_bt11)\n",
    "    Aqua_allcave_bt67=np.append(Aqua_allcave_bt67,cave_bt67)\n",
    "    Aqua_allcave_cibt11=np.append(Aqua_allcave_cibt11,cave_cibt11)\n",
    "    Aqua_allctrop_T=np.append(Aqua_allctrop_T,ctrop_T)\n",
    "    Aqua_allchetero=np.append(Aqua_allchetero,chetero)\n",
    "    Aqua_alldnflag =np.append(Aqua_alldnflag,dnflag)\n",
    "    #print(allchetero.shape,chetero.shape)\n",
    "    #print(cOT_lat[0],cmin_bt11[0],cave_bt11[0],cave_bt67[0],cave_cibt11[0],ctrop_T[0],chetero[0])\n",
    "\n",
    "    #plt.plot(cOT_lat)\n",
    "ind=np.where(Aqua_allcmin_bt11 < 150)[0]\n",
    "Aqua_allcmin_bt11[ind]=np.nan\n",
    "ind=np.where((Aqua_allcmin_ctbt11 < 150) & (Aqua_allcOT_ctlat < -90))[0]\n",
    "Aqua_allcmin_ctbt11[ind]=np.nan\n",
    "Aqua_allcOT_ctlat[ind] = np.nan\n",
    "Aqua_allcOT_ctlon[ind] = np.nan"
   ]
  },
  {
   "cell_type": "code",
   "execution_count": 25,
   "id": "fd95f7da",
   "metadata": {},
   "outputs": [
    {
     "name": "stdout",
     "output_type": "stream",
     "text": [
      "Terra land and Ocean mean BT 186.67067766117876 187.6359065044695 167.80960478965255\n",
      "Aqua land and Ocean mean BT 186.03575347886257 186.97356676493274\n"
     ]
    },
    {
     "data": {
      "text/plain": [
       "([<matplotlib.axis.YTick at 0x2ad1a4b6eb20>,\n",
       "  <matplotlib.axis.YTick at 0x2ad1a4b6e340>,\n",
       "  <matplotlib.axis.YTick at 0x2ad1a4b732b0>,\n",
       "  <matplotlib.axis.YTick at 0x2ad1a510c760>,\n",
       "  <matplotlib.axis.YTick at 0x2ad1a510cee0>],\n",
       " [Text(0, 0, ''),\n",
       "  Text(0, 0, ''),\n",
       "  Text(0, 0, ''),\n",
       "  Text(0, 0, ''),\n",
       "  Text(0, 0, '')])"
      ]
     },
     "execution_count": 25,
     "metadata": {},
     "output_type": "execute_result"
    },
    {
     "data": {
      "image/png": "[encoded data removed]",
      "text/plain": [
       "<Figure size 432x288 with 1 Axes>"
      ]
     },
     "metadata": {
      "needs_background": "light"
     },
     "output_type": "display_data"
    }
   ],
   "source": [
    "lnthick=3\n",
    "fontsz=14\n",
    "nrange=[170,200] #tropis\n",
    "nbins=30\n",
    "\n",
    "#nrange=[170,230]# midlat\n",
    "#nbins=60\n",
    "ind=np.where((Aqua_allcmin_ctbt11 < 150) | (Aqua_allcOT_ctlat < -90))[0]\n",
    "Aqua_allcmin_ctbt11[ind]=np.nan\n",
    "Aqua_allcOT_ctlat[ind] = np.nan\n",
    "Aqua_allcOT_ctlon[ind] = np.nan\n",
    "\n",
    "ind=np.where((Terra_allcmin_ctbt11 < 150) | (Terra_allcOT_ctlat < -90))[0]\n",
    "Terra_allcmin_ctbt11[ind]=np.nan\n",
    "Terra_allcOT_ctlat[ind] = np.nan\n",
    "Terra_allcOT_ctlon[ind] = np.nan\n",
    "\n",
    "Terra_land_mask=globe.is_land(Terra_allcOT_lat,Terra_allcOT_lon)\n",
    "Terra_landind=np.where((abs(Terra_allcOT_ctlat) <= 25) & (Terra_land_mask) & (Terra_alldnflag ==1))[0]\n",
    "\n",
    "Terra_ocean_mask=globe.is_ocean(Terra_allcOT_lat,Terra_allcOT_lon)\n",
    "Terra_oceanind=np.where((abs(Terra_allcOT_ctlat) <= 25) & (Terra_ocean_mask) & (Terra_alldnflag ==1))[0] \n",
    "\n",
    "Terra_land_minbt =Terra_allcmin_ctbt11[Terra_landind]\n",
    "Terra_ocean_minbt =Terra_allcmin_ctbt11[Terra_oceanind]\n",
    "print('Terra land and Ocean mean BT',np.nanmean(Terra_land_minbt),np.nanmean(Terra_ocean_minbt),np.nanmin(Terra_ocean_minbt))\n",
    "\n",
    "Aqua_land_mask=globe.is_land(Aqua_allcOT_lat,Aqua_allcOT_lon)\n",
    "Aqua_landind=np.where((abs(Aqua_allcOT_ctlat) <= 25) & (Aqua_land_mask) & (Aqua_alldnflag ==1))[0]\n",
    "\n",
    "Aqua_ocean_mask=globe.is_ocean(Aqua_allcOT_lat,Aqua_allcOT_lon)\n",
    "Aqua_oceanind=np.where((abs(Aqua_allcOT_ctlat) <= 25) & (Aqua_ocean_mask) & (Aqua_alldnflag ==1))[0] \n",
    "\n",
    "Aqua_land_minbt =Aqua_allcmin_ctbt11[Aqua_landind]\n",
    "Aqua_ocean_minbt =Aqua_allcmin_ctbt11[Aqua_oceanind]\n",
    "print('Aqua land and Ocean mean BT',np.nanmean(Aqua_land_minbt),np.nanmean(Aqua_ocean_minbt))\n",
    "\n",
    "plt.figure(figsize=([6,4]))\n",
    "Terra_landhis=np.histogram(Terra_land_minbt,bins=nbins,range=nrange)\n",
    "x=Terra_landhis[1]\n",
    "plt.plot(x[0:len(x)-1],Terra_landhis[0]/np.sum(Terra_landhis[0]),'red',linewidth=lnthick,\\\n",
    "         label='Terra Land $\\overline {T}_{b11}$ ~ ' + str(np.round(np.nanmean(Terra_land_minbt),decimals=1)))\n",
    "Terra_oceanhis=np.histogram(Terra_ocean_minbt,bins=nbins,range=nrange)\n",
    "plt.plot(x[0:len(x)-1],Terra_oceanhis[0]/np.sum(Terra_oceanhis[0]),'cyan',linewidth=lnthick,\\\n",
    "         label='Terra ocean $\\overline {T}_{b11}$ ~ '+ str(np.round(np.nanmean(Terra_ocean_minbt),decimals=1)))\n",
    "\n",
    "Aqua_landhis=np.histogram(Aqua_land_minbt,bins=nbins,range=nrange)\n",
    "x=Aqua_landhis[1]\n",
    "plt.plot(x[0:len(x)-1],Aqua_landhis[0]/np.sum(Aqua_landhis[0]),'red',linewidth=lnthick,linestyle='dashed',\\\n",
    "         label='Aqua Land  $\\overline {T}_{b11}$ ~ '+ str(np.round(np.nanmean(Aqua_land_minbt),decimals=1)))\n",
    "Aqua_oceanhis=np.histogram(Aqua_ocean_minbt,bins=nbins,range=nrange)\n",
    "plt.plot(x[0:len(x)-1],Aqua_oceanhis[0]/np.sum(Aqua_oceanhis[0]),'cyan',linestyle='dashed',linewidth=lnthick,\\\n",
    "         label='Aqua ocean $\\overline {T}_{b11}$ ~ '+ str(np.round(np.nanmean(Aqua_ocean_minbt),decimals=1)))\n",
    "ld=plt.legend(frameon=False,fontsize=fontsz-1,labelspacing=0.1,loc=2,handlelength=2)\n",
    "plt.ylabel('Frequency',fontsize=fontsz+2)\n",
    "plt.xlabel('OT center $T_{b11}$ (K)',fontsize=fontsz+2)\n",
    "plt.ylim([0,0.1])\n",
    "plt.xticks(fontsize=fontsz+2)\n",
    "plt.yticks(np.arange(0,0.1,0.02),fontsize=fontsz+2)"
   ]
  },
  {
   "cell_type": "code",
   "execution_count": 17,
   "id": "c5edbee9",
   "metadata": {},
   "outputs": [
    {
     "data": {
      "text/plain": [
       "[<matplotlib.lines.Line2D at 0x2ad1a2873bb0>]"
      ]
     },
     "execution_count": 17,
     "metadata": {},
     "output_type": "execute_result"
    },
    {
     "data": {
      "image/png": "[encoded data removed]",
      "text/plain": [
       "<Figure size 432x288 with 1 Axes>"
      ]
     },
     "metadata": {
      "needs_background": "light"
     },
     "output_type": "display_data"
    }
   ],
   "source": [
    "plt.plot(Terra_allcOT_ctlat)"
   ]
  }
 ],
 "metadata": {
  "kernelspec": {
   "display_name": "Python 3 (ipykernel)",
   "language": "python",
   "name": "python3"
  },
  "language_info": {
   "codemirror_mode": {
    "name": "ipython",
    "version": 3
   },
   "file_extension": ".py",
   "mimetype": "text/x-python",
   "name": "python",
   "nbconvert_exporter": "python",
   "pygments_lexer": "ipython3",
   "version": "3.8.12"
  }
 },
 "nbformat": 4,
 "nbformat_minor": 5
}
